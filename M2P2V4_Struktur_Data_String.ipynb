{
  "nbformat": 4,
  "nbformat_minor": 0,
  "metadata": {
    "colab": {
      "name": "M2P2V4_Struktur_Data_String.ipynb",
      "provenance": [],
      "collapsed_sections": []
    },
    "kernelspec": {
      "name": "python3",
      "display_name": "Python 3"
    },
    "language_info": {
      "name": "python"
    }
  },
  "cells": [
    {
      "cell_type": "markdown",
      "metadata": {
        "id": "jZtLhVywkOZT"
      },
      "source": [
        "# String"
      ]
    },
    {
      "cell_type": "markdown",
      "metadata": {
        "id": "V0IajhL9x0Ef"
      },
      "source": [
        "String dideklarasikan dengan diapit oleh tanda petik."
      ]
    },
    {
      "cell_type": "code",
      "metadata": {
        "colab": {
          "base_uri": "https://localhost:8080/"
        },
        "id": "dHQkPJAMkQvC",
        "outputId": "c7852516-80f3-4740-b972-0fcba8296d70"
      },
      "source": [
        "#Menampilkan string dengan fungsi print ()\n",
        "print(\"Hello World!\")"
      ],
      "execution_count": 67,
      "outputs": [
        {
          "output_type": "stream",
          "name": "stdout",
          "text": [
            "Hello World!\n"
          ]
        }
      ]
    },
    {
      "cell_type": "code",
      "metadata": {
        "colab": {
          "base_uri": "https://localhost:8080/"
        },
        "id": "qP80zwLcka0X",
        "outputId": "46f83227-a493-4c66-ef93-7fe17f3e61bd"
      },
      "source": [
        "#Membuat variable bertipe string\n",
        "A = \"Belajar struktur data string\"\n",
        "print(A)"
      ],
      "execution_count": 10,
      "outputs": [
        {
          "output_type": "stream",
          "name": "stdout",
          "text": [
            "Belajar struktur data string\n"
          ]
        }
      ]
    },
    {
      "cell_type": "code",
      "metadata": {
        "colab": {
          "base_uri": "https://localhost:8080/"
        },
        "id": "rw2HWde-ko2T",
        "outputId": "61fc5a37-8290-4a3e-a103-672967710dc6"
      },
      "source": [
        "#Membuat variable string multi-line dengan 3 tanda petik\n",
        "B = \"\"\"Belajar Phyton\n",
        "Pejuang Data 3.0 \n",
        "PSDS \n",
        "String\"\"\"\n",
        "print(B)"
      ],
      "execution_count": 68,
      "outputs": [
        {
          "output_type": "stream",
          "name": "stdout",
          "text": [
            "Belajar Phyton\n",
            "Pejuang Data 3.0 \n",
            "PSDS \n",
            "String\n"
          ]
        }
      ]
    },
    {
      "cell_type": "code",
      "metadata": {
        "colab": {
          "base_uri": "https://localhost:8080/"
        },
        "id": "T2lh9F-klKmp",
        "outputId": "0ef1dd79-8175-4a61-b720-032c131218ab"
      },
      "source": [
        "#Menampilkan karakter tertentu dalam string\n",
        "print(A[2])"
      ],
      "execution_count": 69,
      "outputs": [
        {
          "output_type": "stream",
          "name": "stdout",
          "text": [
            "l\n"
          ]
        }
      ]
    },
    {
      "cell_type": "code",
      "metadata": {
        "colab": {
          "base_uri": "https://localhost:8080/"
        },
        "id": "PfJvFNG7lUfI",
        "outputId": "2a299836-3ed8-4e89-af31-af0578b69864"
      },
      "source": [
        "#Slicing pada string\n",
        "A = \"Belajar Struktur data string\"\n",
        "print(A[:5])\n",
        "print(A[3:])\n",
        "print(A[-5:])\n",
        "print(A[4:9])"
      ],
      "execution_count": 70,
      "outputs": [
        {
          "output_type": "stream",
          "name": "stdout",
          "text": [
            "Belaj\n",
            "ajar Struktur data string\n",
            "tring\n",
            "jar S\n"
          ]
        }
      ]
    },
    {
      "cell_type": "markdown",
      "metadata": {
        "id": "DUdr1HeplyC-"
      },
      "source": [
        "## Latihan"
      ]
    },
    {
      "cell_type": "code",
      "metadata": {
        "id": "MbyYJBzkl0tR"
      },
      "source": [
        "#Buatlah variable string lalu lakukan slicing dengan menghilangkan karakter pertama dan terakhir"
      ],
      "execution_count": null,
      "outputs": []
    },
    {
      "cell_type": "code",
      "metadata": {
        "colab": {
          "base_uri": "https://localhost:8080/"
        },
        "id": "R-8Pn4cXl-uv",
        "outputId": "53ec6789-36a7-4e8b-d3c9-ee18c504cd10"
      },
      "source": [
        "B = \"Belajar Phyton Bersama Pejuang Data Sains 3.0\"\n",
        "print(B[1:])\n",
        "print(B[:44])"
      ],
      "execution_count": 71,
      "outputs": [
        {
          "output_type": "stream",
          "name": "stdout",
          "text": [
            "elajar Phyton Bersama Pejuang Data Sains 3.0\n",
            "Belajar Phyton Bersama Pejuang Data Sains 3.\n"
          ]
        }
      ]
    },
    {
      "cell_type": "markdown",
      "metadata": {
        "id": "uK_DDVAYqPgw"
      },
      "source": [
        "## Memodifikasi String"
      ]
    },
    {
      "cell_type": "code",
      "metadata": {
        "colab": {
          "base_uri": "https://localhost:8080/",
          "height": 35
        },
        "id": "eEQQdgAcqSwJ",
        "outputId": "a8d2e768-65d6-451e-f7eb-e848883944fc"
      },
      "source": [
        "#upper()\n",
        "A.upper()"
      ],
      "execution_count": 72,
      "outputs": [
        {
          "output_type": "execute_result",
          "data": {
            "application/vnd.google.colaboratory.intrinsic+json": {
              "type": "string"
            },
            "text/plain": [
              "'BELAJAR STRUKTUR DATA STRING'"
            ]
          },
          "metadata": {},
          "execution_count": 72
        }
      ]
    },
    {
      "cell_type": "code",
      "metadata": {
        "colab": {
          "base_uri": "https://localhost:8080/",
          "height": 35
        },
        "id": "gKZB6-tiqxb3",
        "outputId": "bf294c82-fe01-478f-9d95-4c783d49e15f"
      },
      "source": [
        "#lower()\n",
        "A.lower()"
      ],
      "execution_count": 73,
      "outputs": [
        {
          "output_type": "execute_result",
          "data": {
            "application/vnd.google.colaboratory.intrinsic+json": {
              "type": "string"
            },
            "text/plain": [
              "'belajar struktur data string'"
            ]
          },
          "metadata": {},
          "execution_count": 73
        }
      ]
    },
    {
      "cell_type": "code",
      "metadata": {
        "colab": {
          "base_uri": "https://localhost:8080/",
          "height": 35
        },
        "id": "-YOfHz0LrvRT",
        "outputId": "818f5b55-4e5f-4d20-f90e-4329e0085717"
      },
      "source": [
        "#strip()\n",
        "A.strip()"
      ],
      "execution_count": 74,
      "outputs": [
        {
          "output_type": "execute_result",
          "data": {
            "application/vnd.google.colaboratory.intrinsic+json": {
              "type": "string"
            },
            "text/plain": [
              "'Belajar Struktur data string'"
            ]
          },
          "metadata": {},
          "execution_count": 74
        }
      ]
    },
    {
      "cell_type": "code",
      "metadata": {
        "colab": {
          "base_uri": "https://localhost:8080/",
          "height": 35
        },
        "id": "azKvM-EktCHP",
        "outputId": "e0ba1747-7846-40a0-c925-3fc7a2a1375c"
      },
      "source": [
        "#replace()\n",
        "A.replace('l', 'd')"
      ],
      "execution_count": 75,
      "outputs": [
        {
          "output_type": "execute_result",
          "data": {
            "application/vnd.google.colaboratory.intrinsic+json": {
              "type": "string"
            },
            "text/plain": [
              "'Bedajar Struktur data string'"
            ]
          },
          "metadata": {},
          "execution_count": 75
        }
      ]
    },
    {
      "cell_type": "code",
      "metadata": {
        "colab": {
          "base_uri": "https://localhost:8080/"
        },
        "id": "u_l_kM4SuB8G",
        "outputId": "f2492355-b5d5-427d-81fd-76a17f8ecbfc"
      },
      "source": [
        "#split()\n",
        "A.split()"
      ],
      "execution_count": 76,
      "outputs": [
        {
          "output_type": "execute_result",
          "data": {
            "text/plain": [
              "['Belajar', 'Struktur', 'data', 'string']"
            ]
          },
          "metadata": {},
          "execution_count": 76
        }
      ]
    },
    {
      "cell_type": "markdown",
      "metadata": {
        "id": "DN0yxEKCuIGY"
      },
      "source": [
        "## Menggabungkan String"
      ]
    },
    {
      "cell_type": "code",
      "metadata": {
        "colab": {
          "base_uri": "https://localhost:8080/",
          "height": 35
        },
        "id": "I2092T5WuMA-",
        "outputId": "752684af-601d-414f-bfdd-5f32bfe5e5e5"
      },
      "source": [
        "A = \"Belajar Struktur data string\"\n",
        "B = \"Pejuang Data 3.0\"\n",
        "A + \" \" + B"
      ],
      "execution_count": 77,
      "outputs": [
        {
          "output_type": "execute_result",
          "data": {
            "application/vnd.google.colaboratory.intrinsic+json": {
              "type": "string"
            },
            "text/plain": [
              "'Belajar Struktur data string Pejuang Data 3.0'"
            ]
          },
          "metadata": {},
          "execution_count": 77
        }
      ]
    },
    {
      "cell_type": "markdown",
      "metadata": {
        "id": "XoW5oceoucuA"
      },
      "source": [
        "## Latihan 2"
      ]
    },
    {
      "cell_type": "code",
      "metadata": {
        "id": "ss0cE2xHuexS"
      },
      "source": [
        "#Ganti semua huruf vokal menjadi \"i\" pada string yang telah kalian buat pada latihan 1"
      ],
      "execution_count": null,
      "outputs": []
    },
    {
      "cell_type": "code",
      "metadata": {
        "id": "rbBWGji1urCL"
      },
      "source": [
        "B = \"Belajar Phyton Bersama Pejuang Data Sains 3.0\""
      ],
      "execution_count": 78,
      "outputs": []
    },
    {
      "cell_type": "code",
      "metadata": {
        "colab": {
          "base_uri": "https://localhost:8080/",
          "height": 35
        },
        "id": "2eDq-1PA0oRf",
        "outputId": "541c9e71-43e1-4d93-fb18-8024be8c2637"
      },
      "source": [
        "B.replace('e','i')"
      ],
      "execution_count": 86,
      "outputs": [
        {
          "output_type": "execute_result",
          "data": {
            "application/vnd.google.colaboratory.intrinsic+json": {
              "type": "string"
            },
            "text/plain": [
              "'Bilajar Phyton Birsama Pijuang Data Sains 3.0'"
            ]
          },
          "metadata": {},
          "execution_count": 86
        }
      ]
    },
    {
      "cell_type": "code",
      "metadata": {
        "colab": {
          "base_uri": "https://localhost:8080/",
          "height": 35
        },
        "id": "kw4kYySvS3DT",
        "outputId": "97c06937-1ca1-4d76-fc3f-88ad9ae529e5"
      },
      "source": [
        "B.replace('a', 'i')"
      ],
      "execution_count": 87,
      "outputs": [
        {
          "output_type": "execute_result",
          "data": {
            "application/vnd.google.colaboratory.intrinsic+json": {
              "type": "string"
            },
            "text/plain": [
              "'Belijir Phyton Bersimi Pejuing Diti Siins 3.0'"
            ]
          },
          "metadata": {},
          "execution_count": 87
        }
      ]
    },
    {
      "cell_type": "code",
      "metadata": {
        "colab": {
          "base_uri": "https://localhost:8080/",
          "height": 35
        },
        "id": "Bhzjso0lS6AN",
        "outputId": "558dd9f7-c242-4296-d27c-cd62e4967086"
      },
      "source": [
        "B.replace('o','i')"
      ],
      "execution_count": 88,
      "outputs": [
        {
          "output_type": "execute_result",
          "data": {
            "application/vnd.google.colaboratory.intrinsic+json": {
              "type": "string"
            },
            "text/plain": [
              "'Belajar Phytin Bersama Pejuang Data Sains 3.0'"
            ]
          },
          "metadata": {},
          "execution_count": 88
        }
      ]
    },
    {
      "cell_type": "code",
      "metadata": {
        "colab": {
          "base_uri": "https://localhost:8080/",
          "height": 35
        },
        "id": "QX0Psn9ES9fi",
        "outputId": "43e367ee-f0ae-4b99-eb14-2e67636caa41"
      },
      "source": [
        "B.replace('u','i')"
      ],
      "execution_count": 92,
      "outputs": [
        {
          "output_type": "execute_result",
          "data": {
            "application/vnd.google.colaboratory.intrinsic+json": {
              "type": "string"
            },
            "text/plain": [
              "'Belajar Phyton Bersama Pejiang Data Sains 3.0'"
            ]
          },
          "metadata": {},
          "execution_count": 92
        }
      ]
    }
  ]
}