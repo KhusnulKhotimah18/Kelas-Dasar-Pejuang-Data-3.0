{
  "nbformat": 4,
  "nbformat_minor": 0,
  "metadata": {
    "colab": {
      "name": "Quiz 3rd Weekly Meeting.ipynb",
      "provenance": []
    },
    "kernelspec": {
      "name": "python3",
      "display_name": "Python 3"
    },
    "language_info": {
      "name": "python"
    }
  },
  "cells": [
    {
      "cell_type": "markdown",
      "metadata": {
        "id": "Vd_NuDsDilln"
      },
      "source": [
        "# Quiz 3rd Weekly Meeting"
      ]
    },
    {
      "cell_type": "markdown",
      "metadata": {
        "id": "WpqLmgfRhpVY"
      },
      "source": [
        "Instruksi:\n",
        "1. Buatlah fungsi untuk faktorial dengan inputnya berupa list yang berisikan angka.\n",
        "2. buatlah list yang isinya bilangan ganjil (dari 1 - 15) menggunakan looping, lalu tentukan nilai fatorial dari tiap nilai dalam list lalu jumlahkan semua nilai yang telah  difatorial."
      ]
    },
    {
      "cell_type": "markdown",
      "metadata": {
        "id": "n07YFLubudlH"
      },
      "source": [
        "## Jawaban"
      ]
    },
    {
      "cell_type": "code",
      "metadata": {
        "colab": {
          "base_uri": "https://localhost:8080/"
        },
        "id": "mqejgtciugya",
        "outputId": "b4fe2082-6084-42ed-e9c9-2e4e56d9716b"
      },
      "source": [
        "def list_ganjil(a, b):\n",
        "  L = []\n",
        "  for i in range(a, b):\n",
        "    if i%2 == 1:\n",
        "      L.append(i)\n",
        "  return L\n",
        "\n",
        "L = list_ganjil(1, 16)\n",
        "L"
      ],
      "execution_count": 49,
      "outputs": [
        {
          "output_type": "execute_result",
          "data": {
            "text/plain": [
              "[1, 3, 5, 7, 9, 11, 13, 15]"
            ]
          },
          "metadata": {},
          "execution_count": 49
        }
      ]
    },
    {
      "cell_type": "code",
      "metadata": {
        "colab": {
          "base_uri": "https://localhost:8080/"
        },
        "id": "mWoNwPzjCb1p",
        "outputId": "903d1c0d-f616-42e7-8cd6-32ef072b7ccc"
      },
      "source": [
        "def factor(L):\n",
        "  L2 = []\n",
        "  for i in L:\n",
        "    c = 1\n",
        "    for j in range(i):\n",
        "      c = c*(j+1)\n",
        "    L2.append(c)\n",
        "  hasil = 0\n",
        "  for i in L2:\n",
        "    hasil = hasil+i\n",
        "  return hasil\n",
        "\n",
        "factor(L)"
      ],
      "execution_count": 54,
      "outputs": [
        {
          "output_type": "execute_result",
          "data": {
            "text/plain": [
              "1313941673647"
            ]
          },
          "metadata": {},
          "execution_count": 54
        }
      ]
    }
  ]
}