{
  "nbformat": 4,
  "nbformat_minor": 0,
  "metadata": {
    "colab": {
      "name": "M1P1V2_Pengenalan_Python.ipynb",
      "provenance": [],
      "collapsed_sections": []
    },
    "kernelspec": {
      "name": "python3",
      "display_name": "Python 3"
    },
    "language_info": {
      "name": "python"
    }
  },
  "cells": [
    {
      "cell_type": "markdown",
      "metadata": {
        "id": "m5zA7SZt39op"
      },
      "source": [
        "# Pengenalan Python"
      ]
    },
    {
      "cell_type": "markdown",
      "metadata": {
        "id": "1emXChZR1KyE"
      },
      "source": [
        "Python adalah Bahasa pemrograman tingkat tinggi dengan dynamic semantics, bersifat object oriented, dan interpretatif. Bahasa pemrograman ini fokus dikembangkan pada keterbacaan bahasa pemrograman."
      ]
    },
    {
      "cell_type": "markdown",
      "metadata": {
        "id": "WA3Uka-D1-KF"
      },
      "source": [
        "1. **Bahasa Pemrograman Tingkat Tinggi (High Level Programming)**, artinya sintaks kode lebih mudah ditafsirkan oleh manusia.\n",
        "2. **Interpretatif**, artinya bahasa ini memerlukan interpreter atau penerjemah. Ini memungkinkan kita untuk menggunakan Bahasa yang lebih mudah kita pahami.\n",
        "3. **Object Oriented**, ini berarti bahwa bahasa pemrograman ini berorientasi kepada objek. Hal ini membuat Python lebih mudah untuk dikembangkan.\n",
        "4. **Dynamic Semantic**, Python secara otomatis akan menyesuaikan tipe dari suatu variable berdasarkan inputnya."
      ]
    },
    {
      "cell_type": "markdown",
      "metadata": {
        "id": "Qi058w3G4pTb"
      },
      "source": [
        "# Mengapa Python ?"
      ]
    },
    {
      "cell_type": "markdown",
      "metadata": {
        "id": "FNaqO1Y425gH"
      },
      "source": [
        "1. Mudah dipahami\n",
        "2. Gratis & Open Source\n",
        "3. Dinamis\n",
        "4. Memiliki Library Terlengkap untuk Data Sains"
      ]
    },
    {
      "cell_type": "markdown",
      "metadata": {
        "id": "moJvKSyt4ynm"
      },
      "source": [
        "# Struktur Program Pada Python"
      ]
    },
    {
      "cell_type": "markdown",
      "metadata": {
        "id": "74DRiBrD5Ulm"
      },
      "source": [
        "Python pada umumnya terdiri dari :\n",
        "1. **Statement**"
      ]
    },
    {
      "cell_type": "code",
      "metadata": {
        "colab": {
          "base_uri": "https://localhost:8080/"
        },
        "id": "cv1m49ZyKDpV",
        "outputId": "c307a25f-7754-47a7-c1ad-63416bff0927"
      },
      "source": [
        "print(\"belajar Python menyenangkan\")\n",
        "print(\"halo dunia\")"
      ],
      "execution_count": null,
      "outputs": [
        {
          "output_type": "stream",
          "name": "stdout",
          "text": [
            "belajar Python menyenangkan\n",
            "halo dunia\n"
          ]
        }
      ]
    },
    {
      "cell_type": "markdown",
      "metadata": {
        "id": "wSNOV4L2BGO_"
      },
      "source": [
        "2. **Variables** dan **Literals** \n",
        "\n",
        "  Variabel adalah penamaan, sedangkan literal adalah simbol-simbol yang dapat kita gunakan untuk mengisi suatu variable. Seperti contoh di bawah, bilangan1, bilangan2, kalimat, adalah suatu variabel. Sedangkan 5, 10, \"Pejuang Data 3.0\", adalah literal."
      ]
    },
    {
      "cell_type": "code",
      "metadata": {
        "id": "PmKikHSBKf60"
      },
      "source": [
        "bilangan1 = 5\n",
        "bilangan2 = 10\n",
        "kalimat = \"Pejuang Data 3.0\""
      ],
      "execution_count": null,
      "outputs": []
    },
    {
      "cell_type": "markdown",
      "metadata": {
        "id": "lLty-vKNCJSk"
      },
      "source": [
        "3. **Operators** : Simbol-simbol yang dapat digunakan untuk mengubah nilai dari satu variable dengan melibatkan satu atau lebih variable dan literal. Beberapa jenis operator dalam python, yaitu ***operator aritmatika, operator komparasi atau perbandingan, operator penugasan, operator logika, operator keanggotaan (membership), operator identitas, dan operator bitwise.***"
      ]
    },
    {
      "cell_type": "code",
      "metadata": {
        "colab": {
          "base_uri": "https://localhost:8080/"
        },
        "id": "RqHVAbU8K42k",
        "outputId": "6653490f-e701-4389-b2ec-d172fd92ad44"
      },
      "source": [
        "bilangan1 + bilangan2"
      ],
      "execution_count": null,
      "outputs": [
        {
          "output_type": "execute_result",
          "data": {
            "text/plain": [
              "15"
            ]
          },
          "metadata": {},
          "execution_count": 4
        }
      ]
    },
    {
      "cell_type": "markdown",
      "metadata": {
        "id": "2qZOMQPXCeE4"
      },
      "source": [
        "4. **Reserved Words** : Kumpulan kata-kata yang memiliki makna khusus dalam bahasa pemrograman Phyton. Kata `false`, `return`, dan `for` merupakan contoh dari reserved words.\n",
        "\n",
        "\n",
        "\n"
      ]
    },
    {
      "cell_type": "markdown",
      "metadata": {
        "id": "W8p1LHAuGB49"
      },
      "source": [
        "5. **Whitespace** : Pada bahasa Python, spasi dan tab memiliki makna khusus untuk menandai serangkaian blok dalam kode Python."
      ]
    },
    {
      "cell_type": "markdown",
      "metadata": {
        "id": "8dQVw4PpGhkf"
      },
      "source": [
        "6. **Comments** : Comments merupakan sekumpulan teks yang dituliskan di dalam sebuah program yang tidak akan mempengaruhi hasil dari sebuah pemrograman. Terdapat dua jenis comments di dalam Python, yaitu :"
      ]
    },
    {
      "cell_type": "markdown",
      "source": [
        "* **single line comment** (comments dalam satu baris) seperti contoh berikut. Tanda yang dipakai adalah #"
      ],
      "metadata": {
        "id": "ovIPGC9j0f9z"
      }
    },
    {
      "cell_type": "code",
      "metadata": {
        "colab": {
          "base_uri": "https://localhost:8080/"
        },
        "id": "M82GqEcqLKGy",
        "outputId": "0b2f71b0-fdf7-49d1-cb85-4606cd42a8b2"
      },
      "source": [
        "# Ini adalah Comment\n",
        "print(\"belajar Phyton\")"
      ],
      "execution_count": null,
      "outputs": [
        {
          "output_type": "stream",
          "name": "stdout",
          "text": [
            "belajar Phyton\n"
          ]
        }
      ]
    },
    {
      "cell_type": "markdown",
      "metadata": {
        "id": "oAmay41kHfZT"
      },
      "source": [
        "  * **multi line comment** (comments dalam beberapa baris) yang dapat dilakukan seperti pada contoh berikut. Tanda yang dipakai adalah ' ' '\n",
        "\n"
      ]
    },
    {
      "cell_type": "code",
      "metadata": {
        "colab": {
          "base_uri": "https://localhost:8080/"
        },
        "id": "Z2mXTCziLZTG",
        "outputId": "8129b03e-1b5e-41a5-b359-9e114006d09e"
      },
      "source": [
        "'''\n",
        "Ini adalah komentar panjang\n",
        "Bisa digunakan untuk memberikan penjelasan\n",
        "panjang pada Sell Kode Phyton,\n",
        "Misal dokumentasi program, spesifikasi\n",
        "input output atau lainnya\n",
        "'''\n",
        "\n",
        "print('Belajar Phyton menyenangkan')"
      ],
      "execution_count": null,
      "outputs": [
        {
          "output_type": "stream",
          "name": "stdout",
          "text": [
            "Belajar Phyton menyenangkan\n"
          ]
        }
      ]
    }
  ]
}