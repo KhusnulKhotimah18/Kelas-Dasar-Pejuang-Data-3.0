{
  "nbformat": 4,
  "nbformat_minor": 0,
  "metadata": {
    "colab": {
      "name": "M2P2V2_Struktur_Data_Dictionary.ipynb",
      "provenance": [],
      "collapsed_sections": []
    },
    "kernelspec": {
      "name": "python3",
      "display_name": "Python 3"
    },
    "language_info": {
      "name": "python"
    }
  },
  "cells": [
    {
      "cell_type": "markdown",
      "metadata": {
        "id": "s0Ey9rrdwpHa"
      },
      "source": [
        "# Dictionary"
      ]
    },
    {
      "cell_type": "markdown",
      "metadata": {
        "id": "5kWusjW8wr63"
      },
      "source": [
        "Dictionary pada phyton adalah kumpulan pasangan kunci-nilai (pair of key-value) yang bersifat tidak berurutan. Dictionary dapat digunakan untuk menyimpan data kecil hingga besar. Untuk mengakses datanya, kita harus mengetahui kuncinya (key). Pada phyton, dictionary didefinisikan dengan kurawal dan tambahan definisi berikut :\n",
        "\n",
        "*   Setiap elemen pair key-value dipisahkan dengan koma (,)\n",
        "*   Key dan Value dipisahkan dengan titik dua (:)\n",
        "*   Key dan Value dapat berupa tipe variable/obyek apapun\n",
        "\n"
      ]
    },
    {
      "cell_type": "code",
      "metadata": {
        "colab": {
          "base_uri": "https://localhost:8080/"
        },
        "id": "I1tg_AGryc6q",
        "outputId": "49990332-e292-4fac-9b54-0f48ac7553e7"
      },
      "source": [
        "L1 = [1, 'dua', True, 2+3j, 2+3j]\n",
        "L1"
      ],
      "execution_count": 59,
      "outputs": [
        {
          "output_type": "execute_result",
          "data": {
            "text/plain": [
              "[1, 'dua', True, (2+3j), (2+3j)]"
            ]
          },
          "metadata": {},
          "execution_count": 59
        }
      ]
    },
    {
      "cell_type": "code",
      "metadata": {
        "colab": {
          "base_uri": "https://localhost:8080/"
        },
        "id": "2tmhI6VYyzat",
        "outputId": "84003975-1b0c-4aee-ee1c-026b027a44b7"
      },
      "source": [
        "#Contoh Dictionary\n",
        "D1 = {1:'value', 'key':2}\n",
        "print(D1)"
      ],
      "execution_count": 3,
      "outputs": [
        {
          "output_type": "stream",
          "name": "stdout",
          "text": [
            "{1: 'value', 'key': 2}\n"
          ]
        }
      ]
    },
    {
      "cell_type": "markdown",
      "metadata": {
        "id": "NROUst0ozxLy"
      },
      "source": [
        "Latihan 1"
      ]
    },
    {
      "cell_type": "code",
      "metadata": {
        "id": "UPFQ4sNSz2fx"
      },
      "source": [
        "#Buatlah Struktur data dictionary kalian sendiri"
      ],
      "execution_count": null,
      "outputs": []
    },
    {
      "cell_type": "code",
      "metadata": {
        "colab": {
          "base_uri": "https://localhost:8080/"
        },
        "id": "aR3DPeMh3a0K",
        "outputId": "a28aface-37b7-492b-f748-ede83f81af15"
      },
      "source": [
        "L2 = [3, 'tiga', False, 2000, 7.8]\n",
        "L2"
      ],
      "execution_count": 53,
      "outputs": [
        {
          "output_type": "execute_result",
          "data": {
            "text/plain": [
              "[3, 'tiga', False, 2000, 7.8]"
            ]
          },
          "metadata": {},
          "execution_count": 53
        }
      ]
    },
    {
      "cell_type": "code",
      "metadata": {
        "colab": {
          "base_uri": "https://localhost:8080/"
        },
        "id": "T6ppVB7f4HH1",
        "outputId": "93332047-4b49-4076-9d5f-cb98713095dd"
      },
      "source": [
        "D2 = {10: 'genap', 3+3j : 8, 5.5 : True}\n",
        "print(D2)"
      ],
      "execution_count": 54,
      "outputs": [
        {
          "output_type": "stream",
          "name": "stdout",
          "text": [
            "{10: 'genap', (3+3j): 8, 5.5: True}\n"
          ]
        }
      ]
    },
    {
      "cell_type": "code",
      "metadata": {
        "colab": {
          "base_uri": "https://localhost:8080/"
        },
        "id": "iqBVwi8J1wwg",
        "outputId": "b8c984d0-242c-4416-ab11-04dd1b48cfb3"
      },
      "source": [
        "L2[2]"
      ],
      "execution_count": 14,
      "outputs": [
        {
          "output_type": "execute_result",
          "data": {
            "text/plain": [
              "False"
            ]
          },
          "metadata": {},
          "execution_count": 14
        }
      ]
    },
    {
      "cell_type": "code",
      "metadata": {
        "colab": {
          "base_uri": "https://localhost:8080/"
        },
        "id": "4sYxci4v17kx",
        "outputId": "b5737aaf-1ec2-4c3f-d1de-0d9c08bd3b31"
      },
      "source": [
        "D2[3+3j]"
      ],
      "execution_count": 16,
      "outputs": [
        {
          "output_type": "execute_result",
          "data": {
            "text/plain": [
              "8"
            ]
          },
          "metadata": {},
          "execution_count": 16
        }
      ]
    },
    {
      "cell_type": "code",
      "metadata": {
        "colab": {
          "base_uri": "https://localhost:8080/"
        },
        "id": "Qnsd838j1_70",
        "outputId": "f5f36d7c-58a8-4b0e-8ba4-6cc57e661976"
      },
      "source": [
        "#memanggil elemen berdasarkan key\n",
        "print(\"D1['key'] =\", D1['key']) ;"
      ],
      "execution_count": 17,
      "outputs": [
        {
          "output_type": "stream",
          "name": "stdout",
          "text": [
            "D1['key'] = 2\n"
          ]
        }
      ]
    },
    {
      "cell_type": "markdown",
      "metadata": {
        "id": "g7iuRJ102SYa"
      },
      "source": [
        "Dictionary bukan termasuk dalam implementasi urutan (sequences), sehingga tidak bisa dipanggil dengan urutan indeks. Misalnya dalam contoh berikut dengan indeks 2, tetapi menghasilkan error (keyerror) karena tidak ada kunci (key) 2 :"
      ]
    },
    {
      "cell_type": "code",
      "metadata": {
        "colab": {
          "base_uri": "https://localhost:8080/",
          "height": 185
        },
        "id": "HE6D0b0F26Ij",
        "outputId": "e3045c09-62d4-442f-d84a-2e2759e0511e"
      },
      "source": [
        "#nyobain error\n",
        "print(\"D1[2] =\", D1[2]);"
      ],
      "execution_count": 18,
      "outputs": [
        {
          "output_type": "error",
          "ename": "KeyError",
          "evalue": "ignored",
          "traceback": [
            "\u001b[0;31m---------------------------------------------------------------------------\u001b[0m",
            "\u001b[0;31mKeyError\u001b[0m                                  Traceback (most recent call last)",
            "\u001b[0;32m<ipython-input-18-0f7a877b9507>\u001b[0m in \u001b[0;36m<module>\u001b[0;34m()\u001b[0m\n\u001b[1;32m      1\u001b[0m \u001b[0;31m#nyobain error\u001b[0m\u001b[0;34m\u001b[0m\u001b[0;34m\u001b[0m\u001b[0;34m\u001b[0m\u001b[0m\n\u001b[0;32m----> 2\u001b[0;31m \u001b[0mprint\u001b[0m\u001b[0;34m(\u001b[0m\u001b[0;34m\"D1[2] =\"\u001b[0m\u001b[0;34m,\u001b[0m \u001b[0mD1\u001b[0m\u001b[0;34m[\u001b[0m\u001b[0;36m2\u001b[0m\u001b[0;34m]\u001b[0m\u001b[0;34m)\u001b[0m\u001b[0;34m;\u001b[0m\u001b[0;34m\u001b[0m\u001b[0;34m\u001b[0m\u001b[0m\n\u001b[0m",
            "\u001b[0;31mKeyError\u001b[0m: 2"
          ]
        }
      ]
    },
    {
      "cell_type": "markdown",
      "metadata": {
        "id": "vN1U6gGW3NY2"
      },
      "source": [
        "Latihan 2"
      ]
    },
    {
      "cell_type": "code",
      "metadata": {
        "id": "8TNR0YOe3QSl"
      },
      "source": [
        "#panggil salah satu key dan value pada dictionary yang kalian buat"
      ],
      "execution_count": null,
      "outputs": []
    },
    {
      "cell_type": "code",
      "metadata": {
        "colab": {
          "base_uri": "https://localhost:8080/"
        },
        "id": "-uNbjKqx8bO5",
        "outputId": "66c911c5-f6b2-481c-f6a5-594b5fc7fdb2"
      },
      "source": [
        "#memanggil elemen berdasarkan key\n",
        "print(\"D2[10] = \", D2[10])\n",
        "print(\"D2[3+3j] = \", D2[3+3j])\n",
        "print(\"D2[5.5] = \", D2[5.5])"
      ],
      "execution_count": 46,
      "outputs": [
        {
          "output_type": "stream",
          "name": "stdout",
          "text": [
            "D2[10] =  genap\n",
            "D2[3+3j] =  8\n",
            "D2[5.5] =  True\n"
          ]
        }
      ]
    },
    {
      "cell_type": "code",
      "metadata": {
        "colab": {
          "base_uri": "https://localhost:8080/",
          "height": 221
        },
        "id": "FXZZRVr2BjvP",
        "outputId": "064b3e39-520a-4b93-d5c9-3e60d99a3ee4"
      },
      "source": [
        "#memanggil elemen berdasarkan value\n",
        "print(\"D2['genap'] = \", D2['genap'])\n",
        "print(\"D2[8] = \", D2[8])\n",
        "print(\"D2[True] = \", D2[True])"
      ],
      "execution_count": 60,
      "outputs": [
        {
          "output_type": "error",
          "ename": "KeyError",
          "evalue": "ignored",
          "traceback": [
            "\u001b[0;31m---------------------------------------------------------------------------\u001b[0m",
            "\u001b[0;31mKeyError\u001b[0m                                  Traceback (most recent call last)",
            "\u001b[0;32m<ipython-input-60-681a5f2d989e>\u001b[0m in \u001b[0;36m<module>\u001b[0;34m()\u001b[0m\n\u001b[1;32m      1\u001b[0m \u001b[0;31m#memanggil elemen berdasarkan value\u001b[0m\u001b[0;34m\u001b[0m\u001b[0;34m\u001b[0m\u001b[0;34m\u001b[0m\u001b[0m\n\u001b[0;32m----> 2\u001b[0;31m \u001b[0mprint\u001b[0m\u001b[0;34m(\u001b[0m\u001b[0;34m\"D2['genap'] = \"\u001b[0m\u001b[0;34m,\u001b[0m \u001b[0mD2\u001b[0m\u001b[0;34m[\u001b[0m\u001b[0;34m'genap'\u001b[0m\u001b[0;34m]\u001b[0m\u001b[0;34m)\u001b[0m\u001b[0;34m\u001b[0m\u001b[0;34m\u001b[0m\u001b[0m\n\u001b[0m\u001b[1;32m      3\u001b[0m \u001b[0mprint\u001b[0m\u001b[0;34m(\u001b[0m\u001b[0;34m\"D2[8] = \"\u001b[0m\u001b[0;34m,\u001b[0m \u001b[0mD2\u001b[0m\u001b[0;34m[\u001b[0m\u001b[0;36m8\u001b[0m\u001b[0;34m]\u001b[0m\u001b[0;34m)\u001b[0m\u001b[0;34m\u001b[0m\u001b[0;34m\u001b[0m\u001b[0m\n\u001b[1;32m      4\u001b[0m \u001b[0mprint\u001b[0m\u001b[0;34m(\u001b[0m\u001b[0;34m\"D2[True] = \"\u001b[0m\u001b[0;34m,\u001b[0m \u001b[0mD2\u001b[0m\u001b[0;34m[\u001b[0m\u001b[0;32mTrue\u001b[0m\u001b[0;34m]\u001b[0m\u001b[0;34m)\u001b[0m\u001b[0;34m\u001b[0m\u001b[0;34m\u001b[0m\u001b[0m\n",
            "\u001b[0;31mKeyError\u001b[0m: 'genap'"
          ]
        }
      ]
    }
  ]
}