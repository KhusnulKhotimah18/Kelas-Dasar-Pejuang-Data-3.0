{
  "nbformat": 4,
  "nbformat_minor": 0,
  "metadata": {
    "colab": {
      "name": "M3P2V1_Functions.ipynb",
      "provenance": [],
      "collapsed_sections": []
    },
    "kernelspec": {
      "name": "python3",
      "display_name": "Python 3"
    },
    "language_info": {
      "name": "python"
    }
  },
  "cells": [
    {
      "cell_type": "markdown",
      "metadata": {
        "id": "f0uGVNKsKRoH"
      },
      "source": [
        "# Function"
      ]
    },
    {
      "cell_type": "markdown",
      "metadata": {
        "id": "Q5k04XKiKX5v"
      },
      "source": [
        "Fungtion (fungsi) adalah sebuah blok statement yang hanya akan dijalankan saat ia panggil."
      ]
    },
    {
      "cell_type": "markdown",
      "metadata": {
        "id": "pvSDQCVAKjQq"
      },
      "source": [
        "Fungsi len() untuk mengukur jumlah elemen dalam sebuah list dan fungsi print() untuk menampilkan pesan pada layar konsol merupakan contoh dari bentuk fungsi yang telah disediakan oleh bahasa pemrograman Phyton dengan kata lain built-in functions. Selain fungsi yang telah disediakan oleh Phyton, Phyton mengizinkan untuk mendeklarasikan fungsi dalam kode yang dituliskan yang dikenal dengan user defined function."
      ]
    },
    {
      "cell_type": "code",
      "metadata": {
        "id": "Bw-0d8knL7cz"
      },
      "source": [
        "def nama_fungsi(argument):\n",
        "  statement_1\n",
        "  -\n",
        "  statement_n\n",
        "  return returned_value"
      ],
      "execution_count": null,
      "outputs": []
    },
    {
      "cell_type": "markdown",
      "metadata": {
        "id": "wJQ2Mbi2MMsn"
      },
      "source": [
        "\n",
        "\n",
        "*   nama_fungsi adalah untuk fungsi yang anda definisikan, memiliki aturan seperti penamaan variabel\n",
        "*   argument adalah variable masukan ke fungsi, biasa tanpa variable, satu variable atau lebih\n",
        "\n",
        "\n",
        "*   statement_1... statement_n adalah algoritma yang telah anda transfer dalam bahasa phyton yang merupakan inti dari fungsi yang anda definisikan. Seluruh statement adalah menjorok (indent) ke dalam seperti yang pernah anda pelajari pada conditioning dan looping \n",
        "*   return_value adalah variable output dari fungsi anda, bisa tanpa variable, satu variable atau lebih\n",
        "\n",
        "\n",
        "\n"
      ]
    },
    {
      "cell_type": "markdown",
      "metadata": {
        "id": "K6UN1ZcbNsPG"
      },
      "source": [
        "## Argumen dan Parameter"
      ]
    },
    {
      "cell_type": "markdown",
      "metadata": {
        "id": "7Au_R917N9Ed"
      },
      "source": [
        "\n",
        "\n",
        "*   Parameter adalah variable yang digunakan dalam deklarasi fungsi\n",
        "*   Argumen adalah nilai yang diberikan saat pemanggilan fungsi\n",
        "\n"
      ]
    },
    {
      "cell_type": "code",
      "metadata": {
        "colab": {
          "base_uri": "https://localhost:8080/"
        },
        "id": "ctNrxdgLON-e",
        "outputId": "8ee88074-11b6-4738-f346-b35941d1bfdd"
      },
      "source": [
        "def print_nama(nama): #'nama' adalah parameter\n",
        "    print(nama)\n",
        "  \n",
        "print_nama('Budi') #'Budi' adalah argumen"
      ],
      "execution_count": 1,
      "outputs": [
        {
          "output_type": "stream",
          "name": "stdout",
          "text": [
            "Budi\n"
          ]
        }
      ]
    },
    {
      "cell_type": "markdown",
      "metadata": {
        "id": "hQsO2RG5PwC4"
      },
      "source": [
        "## Argumen posisi dan kata kunci"
      ]
    },
    {
      "cell_type": "markdown",
      "metadata": {
        "id": "46_SE5AEPv_E"
      },
      "source": [
        "Kita bisa menyatakan argumen posisi atau kata kunci. Beberapa manfaat argumen kata kunci dapat berupa:\n",
        "\n",
        "\n",
        "*   Kita dapat menyebut argumen dengan mereka untuk memperjelas apa yang mereka wakili\n",
        "*   Kita dapat mengatur ulang argumen dengan cara membuatnya paling mudah dibaca\n",
        "\n"
      ]
    },
    {
      "cell_type": "code",
      "metadata": {
        "colab": {
          "base_uri": "https://localhost:8080/"
        },
        "id": "5xK1rLK-QZex",
        "outputId": "82c81e3a-4659-4ccb-f3f2-b73c1fc5a67d"
      },
      "source": [
        "def angka(a, b, c):\n",
        "    print(a, b, c)\n",
        "  \n",
        "#argumen posisi\n",
        "#argumen berdasarkan posisinya\n",
        "angka(1, 2, 3)\n",
        "\n",
        "#argumen berdasarkan kata kuncinya\n",
        "angka(a=1, b=2, c=3)\n",
        "angka(c=3, b=2, a=1)\n",
        "#catatan: jika audah diberi kunci maka urutan tidak menjadi penting\n",
        "\n",
        "#campuran antara argumen posisi dan argumen kata kunci\n",
        "angka(1, b=2, c=3)\n",
        "\n",
        "#ini tidak diijinkan:\n",
        "#foo(1, b=2, 3) #argumen posisional setelah argumen kunci\n",
        "#foo(1, b=2, a=3) #terdapat dua nilai untuk argumen kunci 'a'"
      ],
      "execution_count": 2,
      "outputs": [
        {
          "output_type": "stream",
          "name": "stdout",
          "text": [
            "1 2 3\n",
            "1 2 3\n",
            "1 2 3\n",
            "1 2 3\n"
          ]
        }
      ]
    },
    {
      "cell_type": "markdown",
      "metadata": {
        "id": "7wdwoStFS3QX"
      },
      "source": [
        "## Argumen Default"
      ]
    },
    {
      "cell_type": "markdown",
      "metadata": {
        "id": "essfhJygS7o4"
      },
      "source": [
        "Fungsi dapat memiliki argumen default dengan nilai yang telah ditentukan sebelumnya. Argumen ini dapat ditinggalkan dan nilai default kemudian diteruskan ke fungsi, atau argumen dapat dirubah dengan nilai yang berbeda. Perhatikan bahwa argumen default harus ditentukan sebagai **parameter terakhir** dalam suatu fungsi."
      ]
    },
    {
      "cell_type": "code",
      "metadata": {
        "colab": {
          "base_uri": "https://localhost:8080/"
        },
        "id": "WEpQDXENTih_",
        "outputId": "b032639e-a24c-47c1-bb6f-e57782291189"
      },
      "source": [
        "#Argumen default\n",
        "def angka2(a, b, c, d=4):\n",
        "    print(a, b, c, d)\n",
        "  \n",
        "angka2(1, 2, 3, 4)\n",
        "angka2(1, b=2, c=3, d=100)\n",
        "\n",
        "#Argumen default harus diletakkan terakhir"
      ],
      "execution_count": 3,
      "outputs": [
        {
          "output_type": "stream",
          "name": "stdout",
          "text": [
            "1 2 3 4\n",
            "1 2 3 100\n"
          ]
        }
      ]
    },
    {
      "cell_type": "markdown",
      "metadata": {
        "id": "m3EKSOLUT-ms"
      },
      "source": [
        "## Praktik Membuat Fungsi"
      ]
    },
    {
      "cell_type": "code",
      "metadata": {
        "colab": {
          "base_uri": "https://localhost:8080/"
        },
        "id": "qGjbhNYSUGQb",
        "outputId": "25f5e85a-b385-4f74-81c7-7d7c240db0d0"
      },
      "source": [
        "x = 1\n",
        "y = 2\n",
        "x*y"
      ],
      "execution_count": 4,
      "outputs": [
        {
          "output_type": "execute_result",
          "data": {
            "text/plain": [
              "2"
            ]
          },
          "metadata": {},
          "execution_count": 4
        }
      ]
    },
    {
      "cell_type": "code",
      "metadata": {
        "colab": {
          "base_uri": "https://localhost:8080/"
        },
        "id": "w4i3zd77UKzK",
        "outputId": "9263f6ce-97de-407c-8776-aee597ca64a9"
      },
      "source": [
        "def penjumlahan(x,y): #input\n",
        "  a=x+y               #proses\n",
        "  return a          #output\n",
        "\n",
        "penjumlahan(1, 2)     #menggunakan fungsi"
      ],
      "execution_count": 5,
      "outputs": [
        {
          "output_type": "execute_result",
          "data": {
            "text/plain": [
              "3"
            ]
          },
          "metadata": {},
          "execution_count": 5
        }
      ]
    },
    {
      "cell_type": "markdown",
      "metadata": {
        "id": "ZHyZo_cmUgoF"
      },
      "source": [
        "Penjumlahan yang memungkinkan untuk tiga bilangan"
      ]
    },
    {
      "cell_type": "code",
      "metadata": {
        "colab": {
          "base_uri": "https://localhost:8080/"
        },
        "id": "5hrO_K_HUmvv",
        "outputId": "7d28956a-88a5-4b3a-d305-9486a7de6f75"
      },
      "source": [
        "def penjumlahan(x,y,z=None):\n",
        "    if (z==None):\n",
        "        return x+y\n",
        "    else:\n",
        "        return x+y+z\n",
        "\n",
        "print(penjumlahan(1, 2))\n",
        "print(penjumlahan(1, 2, 3))"
      ],
      "execution_count": 6,
      "outputs": [
        {
          "output_type": "stream",
          "name": "stdout",
          "text": [
            "3\n",
            "6\n"
          ]
        }
      ]
    },
    {
      "cell_type": "markdown",
      "metadata": {
        "id": "P3cDF2nxVrAT"
      },
      "source": [
        "menyimpan hasil fungsi dalam variabel"
      ]
    },
    {
      "cell_type": "code",
      "metadata": {
        "colab": {
          "base_uri": "https://localhost:8080/"
        },
        "id": "rjSJ1iKMVv4z",
        "outputId": "184a2398-ba94-4e1d-cbdb-bc4723178529"
      },
      "source": [
        "def penjumlahan(x,y):\n",
        "    return x+y\n",
        "\n",
        "a = penjumlahan\n",
        "a(1, 2)"
      ],
      "execution_count": 7,
      "outputs": [
        {
          "output_type": "execute_result",
          "data": {
            "text/plain": [
              "3"
            ]
          },
          "metadata": {},
          "execution_count": 7
        }
      ]
    },
    {
      "cell_type": "markdown",
      "metadata": {
        "id": "A4k5Y5z8bMw1"
      },
      "source": [
        "## Latihan 1"
      ]
    },
    {
      "cell_type": "markdown",
      "metadata": {
        "id": "f8pKRryEbWzA"
      },
      "source": [
        "Buatlah Function phytagoras dengan input argumennya panjang tinggi dan alas segitiga untuk menghasilkan output nilai panjang sisi miring."
      ]
    },
    {
      "cell_type": "code",
      "metadata": {
        "id": "X5owht_5R_u9"
      },
      "source": [
        "alas_segitiga = 16\n",
        "panjang_tinggi = 12"
      ],
      "execution_count": 8,
      "outputs": []
    },
    {
      "cell_type": "code",
      "metadata": {
        "colab": {
          "base_uri": "https://localhost:8080/"
        },
        "id": "tSce7cb2TcqW",
        "outputId": "fee6370a-7b34-4652-d27d-59a88077e9f2"
      },
      "source": [
        "def sisi_miring(panjang_tinggi, alas_segitiga): \n",
        "  sisi_miring = (panjang_tinggi**2+alas_segitiga**2)**(1/2)         \n",
        "  return sisi_miring\n",
        "sisi_miring(panjang_tinggi, alas_segitiga)"
      ],
      "execution_count": 13,
      "outputs": [
        {
          "output_type": "execute_result",
          "data": {
            "text/plain": [
              "20.0"
            ]
          },
          "metadata": {},
          "execution_count": 13
        }
      ]
    },
    {
      "cell_type": "markdown",
      "metadata": {
        "id": "ZPnVb0oWd4CP"
      },
      "source": [
        "## Latihan 2"
      ]
    },
    {
      "cell_type": "markdown",
      "metadata": {
        "id": "5C48rAkTd3_d"
      },
      "source": [
        "Buatlah function luas permukaan balok dengan input argumennya panjang, lebar, dan tinggi dari balok untuk menghasilkan output nilai luas permukaan balok tersebut"
      ]
    },
    {
      "cell_type": "code",
      "metadata": {
        "id": "nKDKpJkye-W4"
      },
      "source": [
        "panjang = 5\n",
        "lebar = 3\n",
        "tinggi = 2"
      ],
      "execution_count": 14,
      "outputs": []
    },
    {
      "cell_type": "code",
      "metadata": {
        "colab": {
          "base_uri": "https://localhost:8080/"
        },
        "id": "00ADx6orXPVc",
        "outputId": "434a3684-8f79-405a-8b0d-05359e428dce"
      },
      "source": [
        "def fungsi_luas_permukaan_balok(panjang, lebar, tinggi): \n",
        "  fungsi_luas_permukaan_balok = (2*panjang*lebar+2*panjang*tinggi+2*lebar*tinggi)          \n",
        "  return   fungsi_luas_permukaan_balok  \n",
        "      \n",
        "fungsi_luas_permukaan_balok(panjang, lebar, tinggi)"
      ],
      "execution_count": 17,
      "outputs": [
        {
          "output_type": "execute_result",
          "data": {
            "text/plain": [
              "62"
            ]
          },
          "metadata": {},
          "execution_count": 17
        }
      ]
    }
  ]
}