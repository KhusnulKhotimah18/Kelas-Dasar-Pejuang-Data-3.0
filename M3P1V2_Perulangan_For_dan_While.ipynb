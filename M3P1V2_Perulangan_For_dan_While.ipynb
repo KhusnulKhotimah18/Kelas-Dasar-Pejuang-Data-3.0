{
  "nbformat": 4,
  "nbformat_minor": 0,
  "metadata": {
    "colab": {
      "name": "M3P1V2_Perulangan_For_dan_While.ipynb",
      "provenance": [],
      "collapsed_sections": []
    },
    "kernelspec": {
      "name": "python3",
      "display_name": "Python 3"
    },
    "language_info": {
      "name": "python"
    }
  },
  "cells": [
    {
      "cell_type": "markdown",
      "metadata": {
        "id": "EekNPE8N_P74"
      },
      "source": [
        "# **Looping/Perulangan**"
      ]
    },
    {
      "cell_type": "markdown",
      "metadata": {
        "id": "H0QvQcO2_T_l"
      },
      "source": [
        "Phyton menyediakan dua statement untuk melakukan proses perulangan yaitu for dan while. Diantara kedua statement ini, secara umum for lebih banyak digunakan daripada while."
      ]
    },
    {
      "cell_type": "markdown",
      "metadata": {
        "id": "ezJFpYSL_vKZ"
      },
      "source": [
        "## For Loop"
      ]
    },
    {
      "cell_type": "markdown",
      "metadata": {
        "id": "Sdm7nJVLADwR"
      },
      "source": [
        "Perulangan `for` digunakan untuk melakukan iterasi di dalam `sequence` seperti `list`, `tuple`, `string`, dan `array` atau objek yang dapat diiterasi lainnya."
      ]
    },
    {
      "cell_type": "markdown",
      "metadata": {
        "id": "GwB2-HZUAhCS"
      },
      "source": [
        "**For Loop Syntax**"
      ]
    },
    {
      "cell_type": "code",
      "metadata": {
        "id": "q-3NAMeeAttJ"
      },
      "source": [
        "for val in sequence:\n",
        "  loop body"
      ],
      "execution_count": null,
      "outputs": []
    },
    {
      "cell_type": "markdown",
      "metadata": {
        "id": "TTXheDl7A0Gl"
      },
      "source": [
        "**For Loop Flowchart**"
      ]
    },
    {
      "cell_type": "markdown",
      "metadata": {
        "id": "ya9WMKOTA8T6"
      },
      "source": [
        "![r-for-loop.jpg](data:image/jpeg;base64,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)"
      ]
    },
    {
      "cell_type": "markdown",
      "metadata": {
        "id": "uLMOH7l1CSQr"
      },
      "source": [
        "**Example: Phyton For Loop**"
      ]
    },
    {
      "cell_type": "code",
      "metadata": {
        "colab": {
          "base_uri": "https://localhost:8080/"
        },
        "id": "5dtwbkZOCg9g",
        "outputId": "47787a71-3bb1-4a28-f8bf-6ff1ae74b220"
      },
      "source": [
        "# Program untuk menghitung jumlah semua angka dalam sebuah list\n",
        "L1 = [2, 4, 5, 7, 9]\n",
        "jumlah = 0\n",
        "\n",
        "#iterasi di dalam list\n",
        "for i in L1:\n",
        "  jumlah = jumlah + i\n",
        "\n",
        "print(jumlah)"
      ],
      "execution_count": null,
      "outputs": [
        {
          "output_type": "stream",
          "name": "stdout",
          "text": [
            "27\n"
          ]
        }
      ]
    },
    {
      "cell_type": "markdown",
      "metadata": {
        "id": "8YnaKBnCDKa7"
      },
      "source": [
        "**The range () function**"
      ]
    },
    {
      "cell_type": "code",
      "metadata": {
        "colab": {
          "base_uri": "https://localhost:8080/"
        },
        "id": "Ku6YwOu9DRYx",
        "outputId": "3853442e-4bab-49fa-9b13-753db12d0d24"
      },
      "source": [
        "#Program untuk melakukan iterasi di dalam list melalui indeks\n",
        "minuman = [\"teh\", \"boba\", \"kopi\", \"susu\"]\n",
        "p = len(minuman)\n",
        "\n",
        "#iterasi di dalam list melalui indeks\n",
        "for i in range (p):\n",
        "  print(minuman[i])"
      ],
      "execution_count": null,
      "outputs": [
        {
          "output_type": "stream",
          "name": "stdout",
          "text": [
            "teh\n",
            "boba\n",
            "kopi\n",
            "susu\n"
          ]
        }
      ]
    },
    {
      "cell_type": "markdown",
      "metadata": {
        "id": "bzvaOYXHEG-c"
      },
      "source": [
        "## for Loop with else"
      ]
    },
    {
      "cell_type": "code",
      "metadata": {
        "colab": {
          "base_uri": "https://localhost:8080/"
        },
        "id": "UeKCAONPEO-I",
        "outputId": "250af9cb-9d66-46a1-8f2c-b3b3d176a962"
      },
      "source": [
        "#Contoh for loop menggunakan else\n",
        "for i in range(p):\n",
        "  print(minuman[i])\n",
        "else:\n",
        "  print(\"elemen sudah habis\")"
      ],
      "execution_count": null,
      "outputs": [
        {
          "output_type": "stream",
          "name": "stdout",
          "text": [
            "teh\n",
            "boba\n",
            "kopi\n",
            "susu\n",
            "elemen sudah habis\n"
          ]
        }
      ]
    },
    {
      "cell_type": "markdown",
      "metadata": {
        "id": "kgeY4zr8EkHH"
      },
      "source": [
        "# Latihan 1"
      ]
    },
    {
      "cell_type": "markdown",
      "metadata": {
        "id": "Et9Y85VTEoM8"
      },
      "source": [
        "Diberi `list_tagihan`. Kamu diminta untuk menghitung jumlah seluruh tagihann. Gunakan looping `for` untuk menyelesaikan tugas ini!"
      ]
    },
    {
      "cell_type": "markdown",
      "metadata": {
        "id": "VwDcGZuYFPxn"
      },
      "source": [
        "Simpan hasilnya pada variable `total_tagihan`!"
      ]
    },
    {
      "cell_type": "code",
      "metadata": {
        "id": "1ik-o1FxFSHO"
      },
      "source": [
        "tagihan = [50000, 75000, -150000, 125000, 300000, -50000, 200000]"
      ],
      "execution_count": 11,
      "outputs": []
    },
    {
      "cell_type": "code",
      "metadata": {
        "id": "bgRoxXaZFjgE",
        "colab": {
          "base_uri": "https://localhost:8080/"
        },
        "outputId": "43f4b9f6-68a7-428f-c891-59109b9ae43b"
      },
      "source": [
        "tagihan = [50000, 75000, -150000, 125000, 300000, -50000, 200000]\n",
        "total_tagihan = 0\n",
        "\n",
        "for i in tagihan:\n",
        "  total_tagihan = total_tagihan + i\n",
        "\n",
        "print(total_tagihan)"
      ],
      "execution_count": 13,
      "outputs": [
        {
          "output_type": "stream",
          "name": "stdout",
          "text": [
            "550000\n"
          ]
        }
      ]
    },
    {
      "cell_type": "markdown",
      "metadata": {
        "id": "OBn3HxdHFmf2"
      },
      "source": [
        "# While Loop"
      ]
    },
    {
      "cell_type": "markdown",
      "metadata": {
        "id": "V4c8ZbD_F5DY"
      },
      "source": [
        "While loop pada Phyton digunakan untuk melakukan literasi pada blok kode selama nilai dari `test expression` adalah `true`"
      ]
    },
    {
      "cell_type": "markdown",
      "metadata": {
        "id": "MSGmwR4cGL5Z"
      },
      "source": [
        "**Syntax of while Loop in Phyton**"
      ]
    },
    {
      "cell_type": "code",
      "metadata": {
        "id": "RMLfNrYpGVU6"
      },
      "source": [
        "while test_expression:\n",
        "  body of while"
      ],
      "execution_count": null,
      "outputs": []
    },
    {
      "cell_type": "markdown",
      "metadata": {
        "id": "cftH5q-aGdYh"
      },
      "source": [
        "**While Loop Flowchart**"
      ]
    },
    {
      "cell_type": "markdown",
      "metadata": {
        "id": "bRVG9rz6GjvX"
      },
      "source": [
        "![while loop.jpg](data:image/jpeg;base64,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)"
      ]
    },
    {
      "cell_type": "markdown",
      "metadata": {
        "id": "2s53aqLyHWi0"
      },
      "source": [
        "**Example: Phyton While Loop**"
      ]
    },
    {
      "cell_type": "code",
      "metadata": {
        "colab": {
          "base_uri": "https://localhost:8080/"
        },
        "id": "Iobh7GOkHdGh",
        "outputId": "eeaadc7b-812c-4809-bbc3-2eb8ae90ce37"
      },
      "source": [
        "#Program untuk menjumlahkan semua\n",
        "#bilangan asli hingga suku ke-n\n",
        "#jum = 1+2+3+...+n\n",
        "\n",
        "n = 10\n",
        "jumlah = 0\n",
        "i = 1\n",
        "\n",
        "while i <= n:\n",
        "  jumlah = jumlah + i\n",
        "  i = i + 1\n",
        "\n",
        "print(jumlah)"
      ],
      "execution_count": null,
      "outputs": [
        {
          "output_type": "stream",
          "name": "stdout",
          "text": [
            "55\n"
          ]
        }
      ]
    },
    {
      "cell_type": "markdown",
      "metadata": {
        "id": "5q-f8Z0kH60A"
      },
      "source": [
        "## While Loop with else"
      ]
    },
    {
      "cell_type": "markdown",
      "metadata": {
        "id": "TvJAa0S7IA23"
      },
      "source": [
        "Sama dengan `for` loop kita juga dapat mengkombinasikan `while` loop dengan blok `else`."
      ]
    },
    {
      "cell_type": "markdown",
      "metadata": {
        "id": "vpp-xNhgIMLj"
      },
      "source": [
        "Bagian `else` akan dieksekusi jika nilai pada `test expression pada` pada `while loop` bernilai `false`. Perhatikan contoh berikut :"
      ]
    },
    {
      "cell_type": "code",
      "metadata": {
        "colab": {
          "base_uri": "https://localhost:8080/"
        },
        "id": "QAFPV3hAIgp_",
        "outputId": "165c2f39-10fb-4b46-8c68-36f44da06af1"
      },
      "source": [
        "jum = 0\n",
        "i = 1\n",
        "while i <=  n:\n",
        "  jum = jum + 1\n",
        "  i = i + 1\n",
        "else:\n",
        "  print(jum) #dieksekusi di luar looping"
      ],
      "execution_count": null,
      "outputs": [
        {
          "output_type": "stream",
          "name": "stdout",
          "text": [
            "10\n"
          ]
        }
      ]
    },
    {
      "cell_type": "markdown",
      "metadata": {
        "id": "DQOSoN7UI1h5"
      },
      "source": [
        "## Latihan"
      ]
    },
    {
      "cell_type": "markdown",
      "metadata": {
        "id": "H6Hx8ipHI3_N"
      },
      "source": [
        "Diberikan list `tagihan` hitunglah `total_tagihan` menggunakan `while loop`."
      ]
    },
    {
      "cell_type": "code",
      "metadata": {
        "id": "besBd4JMJEwq"
      },
      "source": [
        "tagihan = [50000, 75000, 125000, 300000, 200000]"
      ],
      "execution_count": 56,
      "outputs": []
    },
    {
      "cell_type": "code",
      "metadata": {
        "colab": {
          "base_uri": "https://localhost:8080/"
        },
        "id": "9MqrKDK_s5Vk",
        "outputId": "61a98fb3-fdd1-4c08-e81a-c289015e3b2e"
      },
      "source": [
        "tagihan = [50000, 75000, 125000, 300000, 200000]\n",
        "\n",
        "i = 0\n",
        "jumlah_tagihan = len(tagihan)\n",
        "total_tagihan =  0\n",
        "\n",
        "while i < jumlah_tagihan:\n",
        "  total_tagihan = total_tagihan + tagihan[i]\n",
        "  i = i + 1\n",
        "\n",
        "print(total_tagihan)"
      ],
      "execution_count": 10,
      "outputs": [
        {
          "output_type": "stream",
          "name": "stdout",
          "text": [
            "750000\n"
          ]
        }
      ]
    }
  ]
}