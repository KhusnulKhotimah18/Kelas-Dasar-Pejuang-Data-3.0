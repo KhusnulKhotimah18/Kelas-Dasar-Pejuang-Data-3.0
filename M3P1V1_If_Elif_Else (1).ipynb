{
  "nbformat": 4,
  "nbformat_minor": 0,
  "metadata": {
    "colab": {
      "name": "M3P1V1_If_Elif_Else.ipynb",
      "provenance": [],
      "collapsed_sections": []
    },
    "kernelspec": {
      "name": "python3",
      "display_name": "Python 3"
    },
    "language_info": {
      "name": "python"
    }
  },
  "cells": [
    {
      "cell_type": "markdown",
      "metadata": {
        "id": "g8bOFQXwsWq2"
      },
      "source": [
        "# Percabangan/Struktur Pemilihan"
      ]
    },
    {
      "cell_type": "markdown",
      "metadata": {
        "id": "u4OMHAD9sdTl"
      },
      "source": [
        "Pada bagian ini, kamu akan membuat keputusan pada bahasa pemrograman phyton menggunakan struktur percabangan atau juga sering disebut IF ELSE Statement. Pengambilan keputusan dibutuhkan ketika kamu akan mengeksekusi suatu kode jika sebuah kondisi tertentu dipenuhi."
      ]
    },
    {
      "cell_type": "markdown",
      "metadata": {
        "id": "eMoHEr2JtL_7"
      },
      "source": [
        "Statement `if..elif...else` digunakan pada bahasa phyton untuk pengambilan keputusan."
      ]
    },
    {
      "cell_type": "markdown",
      "metadata": {
        "id": "0PO6g7sRtcId"
      },
      "source": [
        "# IF Statements"
      ]
    },
    {
      "cell_type": "markdown",
      "metadata": {
        "id": "ZHbrKt7-te_b"
      },
      "source": [
        "**Phyton IF Statement Syntax**"
      ]
    },
    {
      "cell_type": "code",
      "metadata": {
        "id": "VeozcBoEvjuj"
      },
      "source": [
        "if test expression :\n",
        "  statement(s)"
      ],
      "execution_count": null,
      "outputs": []
    },
    {
      "cell_type": "markdown",
      "metadata": {
        "id": "LthRoQHxvuG5"
      },
      "source": [
        "**Phyton IF Statement Flowchart**"
      ]
    },
    {
      "cell_type": "markdown",
      "metadata": {
        "id": "GsqcwPPJFQAJ"
      },
      "source": [
        "![Python_if_statement.jpg](data:image/jpeg;base64,/9j/4AAQSkZJRgABAQAAAQABAAD/2wBDAAUDBAQEAwUEBAQFBQUGBwwIBwcHBw8LCwkMEQ8SEhEPERETFhwXExQaFRERGCEYGh0dHx8fExciJCIeJBweHx7/2wBDAQUFBQcGBw4ICA4eFBEUHh4eHh4eHh4eHh4eHh4eHh4eHh4eHh4eHh4eHh4eHh4eHh4eHh4eHh4eHh4eHh4eHh7/wAARCAD6AOMDASIAAhEBAxEB/8QAHAABAAIDAQEBAAAAAAAAAAAAAAUGAgQHAwgB/8QASRAAAQQCAAMDBgkJBgQHAAAAAQACAwQFEQYSIQcTMRQVQXWz0xYzNlFUYXKWsSIyN0RWZZGU4QgjVWJxlUJSgbQkJjVDc3aC/8QAFgEBAQEAAAAAAAAAAAAAAAAAAAEC/8QAGhEBAQEBAQEBAAAAAAAAAAAAABEBMQIhQf/aAAwDAQACEQMRAD8A+y0REBERAREQEREBERBGutzDiaOhsdy6m+YjXXmD2gdf9CVJKGk+W0Pq1/tWKZQEREBERAREQEREBERAREQEREBERAREQEREBERAREQEREBEWnkchSx0LZr1qOBrncrOY9Xu9DWjxcT6AASfQEFHn4+4fZ2uxcNmS35xFc1e7FZ+udzmPB3rWuUE78NLoi5nJw+Je1WLtEbgrvcMoGtosaJjIegn7snm0IyWEEB/Qaar/jclRyUTpKVlk3du5ZGjYdG7x5XNOi09fAgFX1nIzlbqIijQiIgIiICIiAiIgIiICIiAiIgIiICIiAiIgIijclmKOPlbXlkdJaeNx1oWGSZ43rYYOoGyNuOgN9SEEktHKZWhjQzyywGSSb7qJrS+WUgbIYxoLnH6gCtDkz2S0ZHjC1j15GFstlw6dC4gsZ6QQA/p1DgVu4zE4/HF76tfUsmhJM9xklk14cz3Eudr0bJ0kwaXeZ7JdIWDDVj07yQNksuHUbDOrGegguL/AJi0FbeNw9GjMbLI3TW3DTrU7jJMQTsjmPUDfXlGgPQApJEBRuSw9DISssTQujtMHLHaheY5mDYOg9ujykgbadg66gqSRBBB2expAkaM1WH/ABNDYrLfDxHRj/SSRya0AASt7G5ahkS9lWf++jA7yCRpZLHvw5mOAI36CRo+ja31oZPFUMkGeWVw+SPZilY4skjJGiWPaQ5p16QQnRvooLus9jfyoJRmaw691MWxWWjqdNeAGP8AQAHBh9JeVt47M0bs5rNe+C23ZdWnYY5QB4nlPiP8w2D6CUEkiIgIiICIiAiIgIiICIiAiIgIih7WdrNsvp0IpclbY7lfFVAIjPTo95IYw6IOiQSPAFJRMKKv5unVsmnGJbt0AHyWq0PkGwSC7wDAdHReQPrWv5vyuSbvLXvJYSOtShI5u/n5ptB5/wDyGfMdqTx9KpQrCvSqxVog4nkjYGgknZPTxJPifE+lBG+S5vJHd20MZWP6vUdzTOHX86Ujpsa2GAEHweVIY3G0cbE6OlWZDznmkcOrpD87nHq4/WST9a3EQEREHlYmhgiMs8jImDW3PcABvp1J6eK8YMhQnkEUF2tLId6ayVpJ149AVjmMZjszjJ8ZlqNa/RsN5Zq9iMSRyDe9OaQQRsDoQvnzsnwmO4Y7N+0nizhHhDFScT4rNZ2HFvhoNMwbHI7u4W8oDiwaADAeoAA9CD6QWL3NY3mcQ0DxJOl89cL8YcZOx9u/H2hcKysfwrPO5uQyrLD6+QjIBne2OvF3ULHPDXg7AOtNGjuqcdZ7M8QdifaHg8hm8zcyGKwlae6+O3Su0nP5yXhs0UTSC4DmLCAQ3kI5STsPrJFC8G2aVzhmjbx+cGcqyxh0d0SRyCUH/NGA0geHQejrsqaQFqZDH0sjCIbtaOdjSHN529WuHgQfEEfONELbRBB+RZnG6OPtjIVh+rXXkSNHToyYAk6G+jw4knq8Be1DOU7FhtOwybH3neFW00Me462eQglr9eksJA9JUste9Tq36zq12vFYhd4xysDmn/oUGwigzjcnjtuw98zRDr5Hfe57fT0ZL1ezZ1484AGgAs6+erCdlXJRS4u093LGyzoNkPoDJASxxOiQAebXiAkEyoji/P0OFuF8lxHle+8ix1d9mx3TeZwY0bJA6bOh4bUuqj2xYK/xN2V8TcO4pjH3sjjZq1dr38rS97SBsnwGz4oPThvjWpmK8tqXD5jD0mVxY8sycDIYHMOuofzkeBB66Gl+8S8c4DEcFZriutdr5eph6r7NllCwyR2mgkgEHQJAOtkKtN4BscO9ltyrwVQqxcUy4uKJpyFiSxC+ZoBId3jnA9QeuvHRKpl7sx4uvU+0VzKPdScR8MQY6o2zahMhsNM3NzmNoa0f3jdEb6A9fAIO1T8RYSrHUOQytChJbibJFFZssje4EDWgSCep109K9reaw9O9FQuZahXuS67qCWwxkj9nQ00nZ6/MFxvjzs94ttcRvzHCdSWnlbNWnUsT2bFWfH2IowARPDLG6QBofKNREc++pBOxhxF2YZyxxPxkLtC3m8TxHchvxPqZGKqYnsYxgZJzsL28hiY5j2EkfMCNkO8IsWDlaG7J0NbJ6lZICIiCs8RUMvNkBOTJkMUGAOx1eUV5CRsk8xIEu+g5C5jdb3zeCkMDfxEsfm/HBlR0DetIxdy+JuyPiyAQ3YOiBo+glSy0spjKGSjay7WbLyEmN+y18Z1rbHjRYdb6gg/WrUjdRQZr5vG9alhuVrA/E2XBk7R/lkA07Q8A4An0vXvjs3St2RTf3tO9y7NS03kl0NbLRsh4G9FzC5u+m1CpVERFU7FdpfA+VyMWPx3EMFmzLMa8bGRyHcgcWlu+XWwQQevQhXFfOvYJieI+H7UFTLSdoVIOzF2Tzc3Hw+bCyWeQse+Qx94AQ4PP5fQ/V0Unwvi+LYu1xty9U4h+AXl878RWknmdJBaeGAyTx8nMKxPeGNr3EMJ2QByhgd3WLWtbvlaBs7Oh4lfMvCMGazrcPawsPEc2eqcdW+/yT55/JIcfHdnEsZLiYy0xDkDACdlvhrYvQ4a4mt4PjvJ42xmKnErbuUiwPf2pY4QJGARvbGTyHZ1yvIOtdCBvYdcZBXY+SRsMbXSdXuDQC7/U+n/qv2CvBBEYoYY42He2saAOvj0C+f8AgPCZiPGWZmZLjHE5F3DjqV+CHCWGFlktYROHTSyCWw0vJD2El45gSSBqKwGL4kk7OuIsIIM7jaxpV2R8RUcZkWWLTxI7na+nM82CeVgD3xkEh50d60H0Rl8pRw0VU2mWAyzajqxCCs+U87zobDAS1u/FxAAHUkDqpJcF4Sh4pfgsQz4N28dDFxXRcJqsduNlut3RMkxrzkyQMBOiHnWxs/OYzifFcYTZDOMjxXEPw4l4qimxOQgdP5G3GNsQkf3nMYo2CHma+M6LnF+muGyg+jUXBOKuGOIbjO0TKyVuIn3YM9VscPiCxYAEYjrBzoo2O0RzCXegf+LfQnfe0BEUZkc1Rp2BU5n2bhGxVrtMkuj4Egfmj/M4gfWgk1F5zIYqvEaWRLJnWGkCoIzM+UeB1GAS4dRs60N9SFr9znckQbEow9Y9e6gIksOHT855BYz0ghocfSHhb2MxdDGteKdYRukIMkriXSSkDQL3klzjrpsklOCv4/GZ5tkSYqfzHj9HVO2PKiT84aHARAa6BryNH80FSnkfE3+PUP8AbD71TSIkQvkfE3+PUP8AbD71PI+Jv8eof7YfeqaRCIXyPib/AB6h/th96nkfE3+PUP8AbD71TSIRC+R8Tf49Q/2w+9WL6nEzWOd5+oHQJ/8ATD71Tiwl+Jf9k/ghEbwvbnyfDWLyVnlE9qnDPII9tbzOYHHQ66Gz86Lx4B+QuA9WVvZNRVE2iIo0LVyFGnfr+T3asVmLmDgyRuwCDsEb8CD1BHUehbSIIMUMtjRvF3fLIB+q3nkkeHRs2i4ek/lh5JPiAvWnnaj7LKd2OXHXXnTILQDTIevRjgSx50CdNJIHiApdeF2rWu1n1blaKxBINPjlYHNcPmII0Uo90UH5rv488+FvO7ofqdxxkjP1Nf1ez0elzQBoNCziz0MMra+Xgkxc73BrTOQYZCToBko/JJJPQHTj8yQbWGxWOw9V9XF0oacD5pJ3MiaGgyPcXPeR85cSSfSSSt9EQEREBEUNYz1d07q2LhlylljuV7a+jHGd6IfISGNI9I2Xa8AUgmVE3s7UgsPp1mTZC6z86tVaHOYdbAeSQ1m/Rzkb9G14jGZLI/lZm8Y4vodF7mM9HR0nR7+oPhyAg6LSpSjUq0azKtOtFWgYNNjiYGtH+gHRBFmlmMjvzjcGPrn9WovPO4dR+VMQCNjR0wNII/OIUhjsfSx0Pc0a0deMuLiGN1zOPiSfEknqSdk+lbiICIiAiIgIiICIiAsJfiX/AGT+CzWEvxL/ALJ/BBD8A/IXAerK3smonAPyFwHqyt7JqIym0REaEREBERAXnNHHNE6KWNsjHghzXDYIPoIPiF6IggvMctAh2AuuotH6pK0y1iOnQMJBj6DQDCGjey0r9GeNTTM7UdjD4eUc/eVifqkAHKPthm/RtTi/HAEaIBB8UoxD2lgeHNLSN7301/qoZ+eFpxiwVR2TkBIMzXclZh+uUgg9RohgeR6QFGyYHE/C2Or5Lqk+m+Z1LncKxkEjRzmHfJvqeuupO/HqrYxrWtDWtAaB0ACvBCHC2Lx589edaYf1SAGKuPqcAS6TodEOJadb5QpivDDXhZBBEyKJgDWMY0BrQPAADwC9UUoIiICIiAiIgIiICIiAiIgLCX4l/wBk/gs1hL8S/wCyfwQQ/APyFwHqyt7JqJwD8hcB6sreyaiMptERGhERAREQEREBERBVOJMocRxGy63G5DI6oOb3FGESSncrBsAkdB6eq0uB+0vDcXV57lLG5iljoDK2S/erthrh8T+R7OfmI2HAj5uh6qfk+W0Pq1/tWLl2K7O+JoP7N/FHA0sFZuZyRyfk7O+BYfKJpHx7d4Do8b+Yg+KDrjMri3yMjZkqbnuk7prRO0lz9A8oG+p0QdeOjtJspjYa09uXI1I69d5jnldM0MicNba4k6BGx0OvELm/G/BeVrRcDX+D+H8bJPgswy7epNlZV71rq0kL3B4aQXjnB6+OtbUDluz7jjI4QWu6gp3oONJc4/Hw3wW2a72lgAlLNB4DucBzNbbo66FB2nG36OSqNt465WuV3EhssEokYSDo6I2DorbVL7K+H5MHTysktDI0JL991l8Vy8yy5zixoLxyAMZsj80bHTfiSrogIiICIiAiIgIiICIiAsJfiX/ZP4LNYS/Ev+yfwQQ/APyFwHqyt7JqJwD8hcB6sreyaiMptERGhERARV7H8U1shQr36ONy09WzE2aGVtUgPY4AtcNkHRBB6j0rY8/fubMfyv8AVIlTKKG8/fuXMfyv9U8/fuXMfyv9UKmUUN5+/cuY/lf6p5+/cuY/lf6oVBy8WcNN7S4sUc1SF4VXVjXMo5+9L2EM185A8FdQuPz8MNk7c4uOvMuV8lbRPMDBs+Ugcg/J34ch3sHxH1ro/n79zZj+V/qtesz5EyplFDefv3LmP5X+qefv3LmP5X+qytTKKG8/fuXMfyv9U8/fuXMfyv8AVCplFDefv3LmP5X+q/aWdq2crHjHVrtW1LBJYjZYhLA9kbmNeQeo6GRnQ/8AN9R0hUwiIiiIiAiIgIiICwl+Jf8AZP4LNYS/Ev8Asn8EEPwD8hcB6sreyaicA/IXAerK3smojKbRERoREQVvss/Rnwt6mqexYrIq32Wfoy4W9TVPYsVkTepgiwkkZHG6SRwYxoJLnHQAHzleVa5UtcwrWYJ+XXN3bw7W/Dej0RWwiLWtXqVWWCO1brwSWH93C2SQNMj/APlaCep+odUGyiIgItbIXqWPqutX7depXZ+dLPIGMH+pJAC87OSx1bGjJ2chVho8rXeUyTNbFpxAaeYnWjsaO+uxrxQbqLSlymNiyEGPlyFRlycc0NczNEkgAJJa3eyNA9QPQt1APgq3kf0m4T1NkfbUlZD4Kt5H9JuE9TZH21JM6m8WRERFEREBERAREQFhL8S/7J/BZrCX4l/2T+CCH4B+QuA9WVvZNROAfkLgPVlb2TURlNoiI0IiIK32Wfoy4W9TVPYsVkVb7LP0ZcLepqnsWKyJvUzij9v/AOgzjv8A+vXvYPXCuxdvD1PtQ4PucKxcJ5W0/hqeC43heMV/Jn8jH893lLw8vc0MALgQ7Z04bLPqxwDmkOAIPiFiyOOPfJG1u/HlAG0V87dnnH3FN+fs7tfCafMZrPWrUfEGCcyJraMbWvLnBjWB8Pcvaxn5ZO+bR2SCqtieKLPFmf7MclmeNJMhxD8MpvOWA/uGtxLgyw1sXI1gkHIGFoc5xD9k9emvrBkELJnyshY2R/57w0Au14bPpRkEDXOc2KNrnO5yQ0Ak61s/OfrQcQ4K4v41yXadF2a3793y/AZO5dzF7yJgZcxp60m83KGtL++aDyjm/wDDv6+JNp7aeIMph8rwdj4cvLgsLlMq6DLZZgYDXYInOiZzvaWM7yQNZsjfXQIJBVswvC2KxHE2b4iriaTJZp0Rtyyv5iGxN5WMb0/JYAT0HTZJ8SSZuaOOWN0csbZGOGi1wBBH1g+KD5wmtZfjjhHANyuduXcdU4/jpY3Jtr19ZWo07isOa+ItJB5gHsAa4guA0RrrXbLYlxHZTk5aZj54GQMZ3kLHt130bTthBaehPTWh6ANBXURxhjWBjQ1muUa6DXhr5tLJ7WvbyuAcD4gjaDkHBWLJ/tO8f25b1mbuMZinRRvZEWta8WRyAhgcGgjY0d7J2SNAdhWIaA4uAAJ8TrxWSAfBVvI/pNwnqbI+2pKyHwVbyP6TcJ6myPtqSZ1N4siIiKIiICIiAiIgLCX4l/2T+CzWEvxL/sn8EEPwD8hcB6sreyaicA/IXAerK3smojKbRERoREQVvss/Rnwt6mp+xYrIq3jOFjjcdWx9HP5mCrViZBBGHQkMY0ANAJjJOgANkk9FteYrX7TZr+MHuldTPiaRQvmK3+02a/jB7pPMVv8AabNfxg92sxU0ihfMVv8AabNfxg92nmK3+02a/jB7pWCaRUzi6pksXiobNXiXL94/I0qx5u4I5JrUUT//AGvHledH0HRUwMHa/abNfxg90kSptFC+Yrf7TZr+MHu08xW/2mzX8YPdqRU0ihfMVv8AabNfxg92nmK3+02a/jB7tWCaVbyP6TcJ6myPtqS2vMVr9ps1/GD3SUcAyvmI8rPkb96zFXkrxGw5mmNkcxz9BjR1JiZ1O9a6eJVxN+ppERRRERAREQEREBYS/Ev+yfwWawl+Jf8AZP4IIfgH5C4D1ZW9k1E4B+QuA9WVvZNRGU2iIjQiIgIiICIiAiIgrfaL8n6vrnF/9/XVj9CqnanZZS4SbclbK6ODKY2RzY2Oe8ht6AkNaAS46HQAbJ6BU7AduWHzPGbcFWwWYZXEb3PnNWSSYOb6BDE17tfOSRr0gLWed9ZcZ3czXXUVb+GmH+h8R/dy/wC5X78NMP8AQ+I/u5f9yszVqxoq58NMP9D4j+7l/wBynw0w/wBD4j+7l/3KTSrGirnw0w/0PiP7uX/cp8NMP9D4j+7l/wByk0qxoq58NMP9D4j+7l/3KfDTD/Q+I/u5f9yk0qxoq58NMP8AQ+I/u5f9ynw0w/0PiP7uX/cpNKsaKufDTD/Q+I/u5f8Acp8NMP8AQ+I/u5f9yk0qxoq58NMP9D4j+7l/3KfDTD/Q+I/u5f8AcpNKsawl+Jf9k/gq/wDDTD/Q+I/u5f8AcrCTjTDmNzRS4j6ggf8Aly/83/wqzStvgH5C4D1ZW9k1FnwXBPV4OwtaxE6KaLHwMkjd+SWOEbQQR6NFERMIiKNCIiAiIgIiICIiCt9ovyeq+ucX/wB/XUu7F412TZlHY+qb7GFjLJhb3oafEB2t6+rar3ahfo08FTZbu1qzn5fGvaJZQ0uDb0BcRsjYA6k+gdSrTBLFPCyaCVksb2hzHsO2uB6gg+BB+dX8T9eqIiiiIiAiIgIiICIiAiIgIiICIiAiIgIiICLws2a9ZgfYsRQsJ0HSPDQT82ysa9ypYldHXtQTPY0Pc2OQOIDt6JAPQHR0fT1QbKIta5dpUgw27dev3juWPvZA3mPzDZ6n6kGyiIgIi17NqvWjMlmxFDGHBhdI8NALiAASfSSRr59hBzf+0NwLPxrw7jW4+EPvVb8YDtHbYpHBkh6egfkuP1MK6Ni6VfG42rjqjBHXqwthiaP+FjQAB/ABbKfWrvrdyJmfa/UX4SANkgAeO1pRZXFy0DkIslUkpg6M7Z2mMHYGuYHXiQPHxKit5Fqw3qc12WnDcryWYADLC2QF8YPgXN3sb+sLYJDeriBv8UGSIsWkOGwQQfAg7QZIiICIsWua4BzSHA+kHaDJERAREQEREBERAREQULtc4Tv8WW+EI6jWdxjs55Xce5sbyyLyWxHsNkBa480jOhB6bOuii+LsZxHiMdlX4+7PBjovNTWPZbiqukiZMfKmsIAbE5zCBsBgO9At8R1FEHOOziXJ5GrjL/d5x9MZPIcr57zuVkPM5sXeB5Lp2dNMIJHg4Eggr8434Xu3eOLmYs8OV+JsbbwJxkNSQQg1pDI90hJkI2yUGMHWyO6HQ7XSEQcIx2F4+o5CHg+HJZm3bxfDWEbFfjtmOtHZE1ltiSQF4Mu2RsBbp5IA2BsEz0GF7RvKM6+3cyT7MvnMU5ILTRXkikLzTaAZh3b2DuxtsTTsEl52Sesog5bxlhON24+nV4fdlJpmVDI635yPP5TsbY4GZjOXQPUteNnWgNk6EnB3F1Li/i6/iWXYzl+IMbfgstyA7k1YzSbZjcwv2HlkMwH5BHL0DhsBdhRByqpie0Nt/ICaXIGd0uUcbJyDTWlheX+Qsij5v7t7AYwTyN0WuJLtgqZ7PcPxXi+Icg7M3bljGTYvHiFtm335bcaJfKiNkloO4vA6JB0PnviIOTt4f45uRZSjdkyZNmDKxWZnZMGGy2VzvJBAGuBhLWloJDWEaILnn8oztTh7LYzsixGAxjbbMjWhotka64XyNLZY3TDvHOOwAHjxIIGhsaCvaIKX2acNWcBf4rs2m2mvymcmtxGa6+cOiIbyloLiGDZcOUAaAA1oBULPcHccZvhuWlar5Oy6vmMbkI3Wcl3diZsNoSStaBYfG0hgOiDGCQOgIBHcUQcvuYjje3xxQmqx5ChhW2XR3GyZEyCWq6k9g2DM4CQTmMnlYD0JD3bO6zwtwbx/hOB+EcBEzKVa2Nxk1TKw18gHSOtBkDYZ4SJ2f3QDZgGF7Rt2zGehHdkQcztcPcZWcq2y/I5djPL6QfyZDu2ureTNbYPI1/KCXgnoNg7LfHZ0shhe0Q0sTV7/ACL6sde9HYMF0G2yYzg1ZOYzRh4EXMCHPd1LdtPXXWUQcybguOzxJJkZL998J4grujibdDY247yOJswMYcG7M7ZCAASObY0D0k+xfhy3wnwa3CXa9+KavPLt9i+bLJQ6V7g6Mue4gaI2CGne9j0q9IgIiICIiAiIgIiIP//Z)"
      ]
    },
    {
      "cell_type": "markdown",
      "metadata": {
        "id": "3N_i_GnLv6Cu"
      },
      "source": [
        "**Example : Phyton If Statement**"
      ]
    },
    {
      "cell_type": "code",
      "metadata": {
        "colab": {
          "base_uri": "https://localhost:8080/"
        },
        "id": "_onPKGeWxc4a",
        "outputId": "b65692c1-9740-4f7c-9ad6-1a4ef429affc"
      },
      "source": [
        "#Jika angka adalah bilangan positif maka print \"adalah bilangan positif\"\n",
        "\n",
        "angka = 3\n",
        "if angka > 0:\n",
        "  print(angka, \"adalah bilangan positif\")\n",
        "  print(\"pernyataan ini selalu ditampilkan\")\n",
        "\n",
        "angka = -1 \n",
        "if angka > 0:\n",
        "  print(angka, \"adalah bilangan positif\")\n",
        "  print(\"pernyataan ini juga selalu ditampilkan\")"
      ],
      "execution_count": 31,
      "outputs": [
        {
          "output_type": "stream",
          "name": "stdout",
          "text": [
            "3 adalah bilangan positif\n",
            "pernyataan ini selalu ditampilkan\n"
          ]
        }
      ]
    },
    {
      "cell_type": "markdown",
      "metadata": {
        "id": "Nj40CdAfyUiA"
      },
      "source": [
        "# IF ELSE Statements"
      ]
    },
    {
      "cell_type": "markdown",
      "metadata": {
        "id": "Ki2H9cxfyZCD"
      },
      "source": [
        "**Phyton IF ELSE Statement Syntax**"
      ]
    },
    {
      "cell_type": "code",
      "metadata": {
        "id": "Utx1Km3hyj4V"
      },
      "source": [
        "if testbexpression :\n",
        "  body of if\n",
        "else :\n",
        "  body of else "
      ],
      "execution_count": null,
      "outputs": []
    },
    {
      "cell_type": "markdown",
      "metadata": {
        "id": "nqbA5FfKzkoz"
      },
      "source": [
        "**Phyton IF ELSE Statement Flowchart**"
      ]
    },
    {
      "cell_type": "markdown",
      "metadata": {
        "id": "CYzBZHTFFsPC"
      },
      "source": [
        "![if else.jpg](data:image/jpeg;base64,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)"
      ]
    },
    {
      "cell_type": "markdown",
      "metadata": {
        "id": "4-ilftasz9QH"
      },
      "source": [
        "**Example : Phyton IF ELSE Statement**"
      ]
    },
    {
      "cell_type": "code",
      "metadata": {
        "colab": {
          "base_uri": "https://localhost:8080/"
        },
        "id": "Q0sQli_40F28",
        "outputId": "7d94ff0c-761a-44bd-c4d6-261a7db1f131"
      },
      "source": [
        "#Program disusun untuk mengecek apakah angka tersebut kurang dari 0 atau tidak\n",
        "#dan menampilkan tulisan yang sesuai\n",
        "\n",
        "angka = 3\n",
        "\n",
        "if angka >= 0:\n",
        "  print(\"Bilangan lebih dari atau samadengan 0\")\n",
        "else :\n",
        "  print(\"Bilangan kurang dari 0\")"
      ],
      "execution_count": 3,
      "outputs": [
        {
          "output_type": "stream",
          "name": "stdout",
          "text": [
            "Bilangan lebih dari atau samadengan 0\n"
          ]
        }
      ]
    },
    {
      "cell_type": "code",
      "metadata": {
        "colab": {
          "base_uri": "https://localhost:8080/"
        },
        "id": "a5X1OXVa07W0",
        "outputId": "e3f1e5d2-6363-413f-f261-5d1d2e9ebea2"
      },
      "source": [
        "#Program disusun untuk mengecek apakah dua buah angka sama atau tidak\n",
        "#dan menampilkan tulisan yang sesuai\n",
        "\n",
        "a = 5\n",
        "b = 5\n",
        "\n",
        "if a==b:\n",
        "  print(\"a dan b bernilai sama\")\n",
        "else :\n",
        "  print(\"a dan b bernilai berbeda\")\n",
        "  print(\"Belajar If Else\")"
      ],
      "execution_count": 4,
      "outputs": [
        {
          "output_type": "stream",
          "name": "stdout",
          "text": [
            "a dan b bernilai sama\n"
          ]
        }
      ]
    },
    {
      "cell_type": "code",
      "metadata": {
        "colab": {
          "base_uri": "https://localhost:8080/"
        },
        "id": "vTxZw6MZ1ul0",
        "outputId": "16ceddc4-2f8c-4227-dd5a-8dff5b4b8c1e"
      },
      "source": [
        "#Program disusun untuk mengecek apakah perbandingan dua buah angka\n",
        "#dan menampilkan tulisan yang sesuai\n",
        "\n",
        "#membaca dua angka\n",
        "bil1 = int(input(\"Masukkan bilangan pertama:\"))\n",
        "bil2 = int(input(\"Masukkan bilangan kedua:\"))\n",
        "\n",
        "#memilih bilangan yang lebih besar\n",
        "if bil1 > bil2:\n",
        "  bil1_lebih_besar = bil1\n",
        "else:\n",
        "  bil_lebih_besar = bil2\n",
        "\n",
        "#menampilkan hasil\n",
        "print(\"Bilangan yang lebih besar adalah:\", bil_lebih_besar)"
      ],
      "execution_count": 20,
      "outputs": [
        {
          "output_type": "stream",
          "name": "stdout",
          "text": [
            "Masukkan bilangan pertama:3\n",
            "Masukkan bilangan kedua:5\n",
            "Bilangan yang lebih besar adalah: 5\n"
          ]
        }
      ]
    },
    {
      "cell_type": "markdown",
      "metadata": {
        "id": "X34yIGdW4tlS"
      },
      "source": [
        "# IF ELIF ELSE Statements"
      ]
    },
    {
      "cell_type": "markdown",
      "metadata": {
        "id": "JhGRcRfh4z-V"
      },
      "source": [
        "**Phyton IF ELIF ELSE Statement Syntax**"
      ]
    },
    {
      "cell_type": "code",
      "metadata": {
        "id": "L9DjO5-N5AI0"
      },
      "source": [
        "if test expression:\n",
        "  body of if\n",
        "elif test expressions:\n",
        "  body of elif\n",
        "else:\n",
        "  body of else "
      ],
      "execution_count": null,
      "outputs": []
    },
    {
      "cell_type": "markdown",
      "metadata": {
        "id": "wd3KzxXL5U8f"
      },
      "source": [
        "**Phyton IF ELIF ELSE Statement Flow Chart**"
      ]
    },
    {
      "cell_type": "markdown",
      "metadata": {
        "id": "RGEcdhziFwml"
      },
      "source": [
        "![if elif else.jpg](data:image/jpeg;base64,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)"
      ]
    },
    {
      "cell_type": "markdown",
      "metadata": {
        "id": "Nnx-VMxm5e3M"
      },
      "source": [
        "Example: Phyton IF ELIF ELSE Statement"
      ]
    },
    {
      "cell_type": "code",
      "metadata": {
        "colab": {
          "base_uri": "https://localhost:8080/"
        },
        "id": "WePUTufM-S92",
        "outputId": "a4860928-8106-40c7-c5da-339ec5ba383e"
      },
      "source": [
        "#Program disusun untuk mengecek apakah angka merupakan bilangan, positif, negatif atau nol\n",
        "#dan menampilkan tulisan yang sesuai\n",
        "\n",
        "angka = 3.4\n",
        "\n",
        "if angka > 0:\n",
        "  print(\"Bilangan positif\")\n",
        "elif num == 0:\n",
        "  print(\"nol\")\n",
        "else:\n",
        "  print(\"bilangan negatif\")"
      ],
      "execution_count": 13,
      "outputs": [
        {
          "output_type": "stream",
          "name": "stdout",
          "text": [
            "Bilangan positif\n"
          ]
        }
      ]
    },
    {
      "cell_type": "code",
      "metadata": {
        "colab": {
          "base_uri": "https://localhost:8080/"
        },
        "id": "RqW75Laj-8M3",
        "outputId": "10767020-4187-45a7-a28d-0feb1010e063"
      },
      "source": [
        "#Statement if\n",
        "x = 4\n",
        "if x % 2 == 0: #jika x dibagi 2 sisanya samadengan 0\n",
        "  print(\"x habis dibagi dua\")\n",
        "\n",
        "#Statement if...elif...else\n",
        "x = 7\n",
        "if x % 2 == 0: #jika x dibagi 2 sisanya samadengan 0\n",
        "  print(\"x habis dibagi dua\")\n",
        "elif x % 3 == 0: #jika x dibagi 3 sisanya samadengan 0\n",
        "  print(\"x habis dibagi tiga\")\n",
        "elif x % 5 == 0: #jika x dibagi 5 sisanya samadengan 0\n",
        "  print(\"x habis dibagi lima\")\n",
        "else:\n",
        "  print(\"x tidak habis dibagi dua, tiga ataupun lima\")"
      ],
      "execution_count": 15,
      "outputs": [
        {
          "output_type": "stream",
          "name": "stdout",
          "text": [
            "x habis dibagi dua\n",
            "x tidak habis dibagi dua, tiga ataupun lima\n"
          ]
        }
      ]
    },
    {
      "cell_type": "markdown",
      "metadata": {
        "id": "CgeFjcrOAr8s"
      },
      "source": [
        "# Phyton Nested IF Statements"
      ]
    },
    {
      "cell_type": "markdown",
      "metadata": {
        "id": "DEdxNgjvAxgJ"
      },
      "source": [
        "**Example: Phyton NESTED IF Statement**"
      ]
    },
    {
      "cell_type": "code",
      "metadata": {
        "colab": {
          "base_uri": "https://localhost:8080/"
        },
        "id": "SZZ1na2xA6pd",
        "outputId": "a7dce5f8-925a-4726-9024-ca760a181a66"
      },
      "source": [
        "#Program disusun untuk mengecek apakah angka merupakan bilangan positif, negatif atau nol\n",
        "#dan menampilkan tulisan yang sesuai\n",
        "\n",
        "angka = float(input(\"masukan angka:\"))\n",
        "if angka >= 0:\n",
        "  if angka == 0:\n",
        "    print(\"nol\")\n",
        "  else:\n",
        "    print(\"bilangan positif\")\n",
        "else:\n",
        "  print(\"bilangan negatif\")"
      ],
      "execution_count": 18,
      "outputs": [
        {
          "output_type": "stream",
          "name": "stdout",
          "text": [
            "masukan angka:4\n",
            "bilangan positif\n"
          ]
        }
      ]
    },
    {
      "cell_type": "markdown",
      "metadata": {
        "id": "r-ZdbPnzBuwr"
      },
      "source": [
        "## Latihan"
      ]
    },
    {
      "cell_type": "markdown",
      "metadata": {
        "id": "0jL4ixLrByQD"
      },
      "source": [
        "Buatlah sebuah fungsi \"Mahal_Diskon\" dengan ketentuan :\n",
        "\n",
        "\n",
        "*   Input berupa data harga dengan tipe data numerik tunggal\n",
        "*   Kategori input adalah \"murah\" dan \"mahal\", kemudian diskon ada 3 kategori \"10%\", \"20%\", dan \"40%\"\n",
        "*   Output pertama sebuah string ysng menyatakan \"mahal\" atau \"murah\" dan keterangan \"kamu dapat diskon...\"\n",
        "*   Output kedua adalah harga yang perlu dibayarkan\n",
        "\n",
        "\n",
        "\n",
        "\n"
      ]
    },
    {
      "cell_type": "code",
      "metadata": {
        "id": "bHAh5zlRDAdw"
      },
      "source": [
        "#Ketikkan Codingan Anda"
      ],
      "execution_count": null,
      "outputs": []
    },
    {
      "cell_type": "code",
      "metadata": {
        "colab": {
          "base_uri": "https://localhost:8080/"
        },
        "id": "OvDRlXwLmSXo",
        "outputId": "366c05c9-ac9b-4bd0-f4c1-431f23cfdce2"
      },
      "source": [
        "mahal = 300000, 500000, 620000\n",
        "murah = 50000, 100000, 120000\n",
        "diskon = \"10%\", \"20%\", \"40%\"\n",
        "\n",
        "harga = 600000\n",
        "if harga >= 300000 :\n",
        "  print(harga,\"mahal,\", \"kamu dapat diskon 20%\")\n",
        "  print(\"kamu harus membayar\", harga-harga*20/100)\n",
        "else:\n",
        "  print(\"murah\")"
      ],
      "execution_count": 114,
      "outputs": [
        {
          "output_type": "stream",
          "name": "stdout",
          "text": [
            "600000 mahal, kamu dapat diskon 20%\n",
            "kamu harus membayar 480000.0\n"
          ]
        }
      ]
    },
    {
      "cell_type": "code",
      "metadata": {
        "colab": {
          "base_uri": "https://localhost:8080/"
        },
        "id": "DPhLRT9-ByQB",
        "outputId": "76acdcdc-a56a-42b4-a074-b81946eb328b"
      },
      "source": [
        "harga = 600000\n",
        "\n",
        "if harga >= 300000:\n",
        "  print(\"kamu mendapat diskon 10%\")\n",
        "elif harga >= 500000:\n",
        "  print(\"kamu mendapat diskon 20%\")\n",
        "elif harga >= 620000:\n",
        "  print(\"kamu mendapat diskon 40%\")\n",
        "else:\n",
        "  print(\"kamu tidak mendapat diskon\")"
      ],
      "execution_count": 123,
      "outputs": [
        {
          "output_type": "stream",
          "name": "stdout",
          "text": [
            "kamu mendapat diskon 10%\n"
          ]
        }
      ]
    },
    {
      "cell_type": "code",
      "metadata": {
        "colab": {
          "base_uri": "https://localhost:8080/"
        },
        "id": "MX3jbZzGEfyF",
        "outputId": "c9bf57a9-5b82-4302-87c7-e6d87a6254aa"
      },
      "source": [
        "harga = float(input(\"harga:\"))\n",
        "\n",
        "if harga >= 300000:\n",
        "  print(\"mahal\")\n",
        "else:\n",
        "  print(\"murah\")\n",
        "\n",
        "harga = float(input(\"harga:\"))\n",
        "if harga >= 300000:\n",
        "  print(\"kamu mendapat diskon 10%\")\n",
        "elif harga <= 500000:\n",
        "  print(\"kamu mendapat diskon 20%\")\n",
        "elif harga >= 620000:\n",
        "  print(\"kamu mendapat diskon 40%\")\n",
        "else:\n",
        "  print(\"kamu tidak mendapat diskon\")\n",
        "\n",
        "harga = float(input(\"harga:\"))\n",
        "if harga >= 300000:\n",
        "  print(\"kamu harus membayar :\", harga-harga*10/100)\n",
        "elif harga <= 500000:\n",
        "  print(\"kamu harus membayar :\", harga-harga*20/100)\n",
        "elif harga >= 620000:\n",
        "  print(\"kamu harus membayar :\", harga-harga*10/100)\n",
        "else:\n",
        "  print(\"kamu tidak mendapat diskon\")"
      ],
      "execution_count": 134,
      "outputs": [
        {
          "output_type": "stream",
          "name": "stdout",
          "text": [
            "harga:600000\n",
            "mahal\n",
            "harga:600000\n",
            "kamu mendapat diskon 10%\n",
            "harga:600000\n",
            "kamu harus membayar : 540000.0\n"
          ]
        }
      ]
    }
  ]
}