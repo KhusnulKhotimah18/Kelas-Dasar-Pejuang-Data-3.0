{
  "nbformat": 4,
  "nbformat_minor": 0,
  "metadata": {
    "colab": {
      "name": "operator_data.ipynb",
      "provenance": [],
      "collapsed_sections": []
    },
    "kernelspec": {
      "name": "python3",
      "display_name": "Python 3"
    },
    "language_info": {
      "name": "python"
    }
  },
  "cells": [
    {
      "cell_type": "code",
      "metadata": {
        "id": "aZOURoSF900Y"
      },
      "source": [
        ""
      ],
      "execution_count": null,
      "outputs": []
    },
    {
      "cell_type": "markdown",
      "metadata": {
        "id": "GNxfJnup-Gfv"
      },
      "source": [
        "# Operator"
      ]
    },
    {
      "cell_type": "markdown",
      "metadata": {
        "id": "e2pCZ9n9-cs3"
      },
      "source": [
        "Operator = Simbol-simbol yang dapat digunakan untuk mengubah nilai dari satu variable dengan melibatkan satu atau lebih variable dan literal.\n",
        "Tipe-tipe operator :\n",
        "1. Operator Aritmatika\n",
        "2. Operator Assignment\n",
        "3. Operator Pembanding\n",
        "4. Operator Logika\n",
        "5. Operator Membership\n",
        "\n",
        "\n",
        "\n",
        "\n",
        "\n",
        "\n",
        "\n"
      ]
    },
    {
      "cell_type": "markdown",
      "metadata": {
        "id": "sqpY08jBBB-z"
      },
      "source": [
        "# Operator Aritmatika"
      ]
    },
    {
      "cell_type": "markdown",
      "metadata": {
        "id": "WKIk3RWzBFfV"
      },
      "source": [
        "Operator Aritmatika digunakan untuk melakukan operasi matematika yang umum.\n",
        "Macam-macam operator aritmatika :"
      ]
    },
    {
      "cell_type": "code",
      "metadata": {
        "id": "gGfbr6UCYJNI"
      },
      "source": [
        "+  : penjumlahan\n",
        "-  : pengurangan\n",
        "*  : perkalian\n",
        "/  : pembagian\n",
        "%  : modulus\n",
        "%  : modulus\n",
        "** : perpangkatan\n",
        "// : pembagian dengan hasil pembulatan flooring"
      ],
      "execution_count": null,
      "outputs": []
    },
    {
      "cell_type": "code",
      "metadata": {
        "colab": {
          "base_uri": "https://localhost:8080/"
        },
        "id": "Ckq-471MDqFY",
        "outputId": "c41ae36e-e4c4-45e9-914f-529f63a2c513"
      },
      "source": [
        "# Contoh penggunaan operator aritmatika\n",
        "\n",
        "#penjumlahan\n",
        "print('penjumlahan')\n",
        "print(2+2)\n",
        "#pengurangan\n",
        "print('-'*20)\n",
        "print('pengurangan')\n",
        "print(2-3)\n",
        "#perkalian\n",
        "print('-'*20)\n",
        "print('perkalian')\n",
        "print(2*3)\n",
        "#pembagian\n",
        "print('-'*20)\n",
        "print('pembagian')\n",
        "print(2/3)\n",
        "#modulus\n",
        "print('-'*20)\n",
        "print('modulus')\n",
        "print(2%3)\n",
        "#perpangkatan\n",
        "print('-'*20)\n",
        "print('perpangkatan')\n",
        "print(2*3)\n",
        "#pembagian pembulatan flooring\n",
        "print('-'*20)\n",
        "print('pembagian pembulatan flooring')\n",
        "print(3//2)"
      ],
      "execution_count": 11,
      "outputs": [
        {
          "output_type": "stream",
          "name": "stdout",
          "text": [
            "penjumlahan\n",
            "4\n",
            "--------------------\n",
            "pengurangan\n",
            "-1\n",
            "--------------------\n",
            "perkalian\n",
            "6\n",
            "--------------------\n",
            "pembagian\n",
            "0.6666666666666666\n",
            "--------------------\n",
            "modulus\n",
            "2\n",
            "--------------------\n",
            "perpangkatan\n",
            "6\n",
            "--------------------\n",
            "pembagian pembulatan flooring\n",
            "1\n"
          ]
        }
      ]
    },
    {
      "cell_type": "markdown",
      "metadata": {
        "id": "a3Y851lUCGAJ"
      },
      "source": [
        "Latihan Operator"
      ]
    },
    {
      "cell_type": "code",
      "metadata": {
        "id": "HS3Zln3zkqR0"
      },
      "source": [
        "# buatlah program penerapan operator aritmatika\n",
        "# dengan nilai-nilai yang berbeda dari contoh di atas"
      ],
      "execution_count": null,
      "outputs": []
    },
    {
      "cell_type": "code",
      "metadata": {
        "colab": {
          "base_uri": "https://localhost:8080/"
        },
        "id": "VDa7qFmLu32Q",
        "outputId": "20182a20-3e2d-4eba-d5b4-00e9c74cbab0"
      },
      "source": [
        "# Contoh penggunaan operator aritmatika\n",
        "\n",
        "#penjumlahan\n",
        "print('penjumlahan')\n",
        "print(100+150)\n",
        "#pengurangan\n",
        "print('-'*20)\n",
        "print('pengurangan')\n",
        "print(150-100)\n",
        "#perkalian\n",
        "print('-'*20)\n",
        "print('perkalian')\n",
        "print(2*90)\n",
        "#pembagian\n",
        "print('-'*20)\n",
        "print('pembagian')\n",
        "print(70/5)\n",
        "#modulus\n",
        "print('-'*20)\n",
        "print('modulus')\n",
        "print(10%4)\n",
        "#perpangkatan\n",
        "print('-'*20)\n",
        "print('perpangkatan')\n",
        "print(5**3)\n",
        "#pembagian pembulatan flooring\n",
        "print('-'*20)\n",
        "print('pembagian pembulatan flooring')\n",
        "print(10//3)"
      ],
      "execution_count": 10,
      "outputs": [
        {
          "output_type": "stream",
          "name": "stdout",
          "text": [
            "penjumlahan\n",
            "250\n",
            "--------------------\n",
            "pengurangan\n",
            "50\n",
            "--------------------\n",
            "perkalian\n",
            "180\n",
            "--------------------\n",
            "pembagian\n",
            "14.0\n",
            "--------------------\n",
            "modulus\n",
            "2\n",
            "--------------------\n",
            "perpangkatan\n",
            "125\n",
            "--------------------\n",
            "pembagian pembulatan flooring\n",
            "3\n"
          ]
        }
      ]
    },
    {
      "cell_type": "markdown",
      "metadata": {
        "id": "VPxbl9tGCPr_"
      },
      "source": [
        "# Operator Assignment"
      ]
    },
    {
      "cell_type": "markdown",
      "metadata": {
        "id": "K2763VSbCULQ"
      },
      "source": [
        "Operator `assignment` digunakan untuk menyimpan nilai menjadi suatu variable"
      ]
    },
    {
      "cell_type": "code",
      "metadata": {
        "id": "j3QgpiPbk8aS"
      },
      "source": [
        "=   : contohnya x = 5 -> x = 5\n",
        "+=  : contohnya x = x + 5 -> x += 5\n",
        "-=  : contohnya x = x - 5 -> x -= 5\n",
        "*=  : contohnya x = x * 5 -> x *= 5\n",
        "/=  : contohnya x = x / 5 -> x /= 5\n",
        "%=  : contohnya x = x % 5 -> x %= 5\n",
        "//= : contohnya x = x // 5 -> x //= 5\n",
        "**= : contohnya x = x ** 5 -> x **= 5\n"
      ],
      "execution_count": null,
      "outputs": []
    },
    {
      "cell_type": "code",
      "metadata": {
        "colab": {
          "base_uri": "https://localhost:8080/"
        },
        "id": "kgJAg2TanCif",
        "outputId": "4edd3c83-23d1-4718-c5b4-35903fb563c2"
      },
      "source": [
        "# contoh penggunaan operator assignment\n",
        "\n",
        "#penjumlahan\n",
        "print('penjumlahan')\n",
        "x=5\n",
        "x=x+5\n",
        "print(x)\n",
        "x=5\n",
        "x+=3\n",
        "print(x)\n",
        "print('-'*20)\n",
        "\n",
        "#pengurangan\n",
        "print('pengurangan')\n",
        "x=5\n",
        "x=x-5\n",
        "print(x)\n",
        "x=5\n",
        "x-=3\n",
        "print(x)\n",
        "print('-'*20)\n",
        "\n",
        "#perkalian\n",
        "print('perkalian')\n",
        "x=5\n",
        "x=x*5\n",
        "print(x)\n",
        "x=5\n",
        "x*=3\n",
        "print(x)\n",
        "print('-'*20)\n",
        "\n",
        "#pembagian\n",
        "print('pembagian')\n",
        "x=5\n",
        "x=x/5\n",
        "print(x)\n",
        "x=5\n",
        "x/=3\n",
        "print(x)\n",
        "print('-'*20)\n",
        "\n",
        "#modulus\n",
        "print('modulus')\n",
        "x=5\n",
        "x=x%5\n",
        "print(x)\n",
        "print('-'*20)\n",
        "\n",
        "#pembagian flooring\n",
        "print('pembagian flooring')\n",
        "x=5\n",
        "x=x//5\n",
        "print(x)\n",
        "x=5\n",
        "x//=3\n",
        "print(x)\n",
        "print('-'*20)\n",
        "\n",
        "#perpangkatan\n",
        "print('perpangkatan')\n",
        "x=5\n",
        "x=x**5\n",
        "print(x)\n",
        "x=5\n",
        "x**=3\n",
        "print(x)\n",
        "print('-'*20)"
      ],
      "execution_count": 13,
      "outputs": [
        {
          "output_type": "stream",
          "name": "stdout",
          "text": [
            "penjumlahan\n",
            "10\n",
            "8\n",
            "--------------------\n",
            "pengurangan\n",
            "0\n",
            "2\n",
            "--------------------\n",
            "perkalian\n",
            "25\n",
            "15\n",
            "--------------------\n",
            "pembagian\n",
            "1.0\n",
            "1.6666666666666667\n",
            "--------------------\n",
            "modulus\n",
            "0\n",
            "--------------------\n",
            "pembagian flooring\n",
            "1\n",
            "1\n",
            "--------------------\n",
            "perpangkatan\n",
            "3125\n",
            "125\n",
            "--------------------\n"
          ]
        }
      ]
    },
    {
      "cell_type": "markdown",
      "metadata": {
        "id": "7RCotJE7plRc"
      },
      "source": [
        "Latihan Operator 2"
      ]
    },
    {
      "cell_type": "code",
      "metadata": {
        "id": "BCB1odbbpqQh"
      },
      "source": [
        "# buatlah program penerapan operator assignment\n",
        "# dengan nilai-nilai berbeda dari contoh di atas"
      ],
      "execution_count": null,
      "outputs": []
    },
    {
      "cell_type": "code",
      "metadata": {
        "colab": {
          "base_uri": "https://localhost:8080/"
        },
        "id": "nTvwOMYFw92N",
        "outputId": "f10dd83a-45d6-44bd-ae21-1313155e3ae7"
      },
      "source": [
        "# contoh penggunaan operator assignment\n",
        "\n",
        "#penjumlahan\n",
        "print('penjumlahan')\n",
        "x=10\n",
        "x=x+5\n",
        "print(x)\n",
        "x=5\n",
        "x+=7\n",
        "print(x)\n",
        "print('-'*20)\n",
        "\n",
        "#pengurangan\n",
        "print('pengurangan')\n",
        "x=25\n",
        "x=x-5\n",
        "print(x)\n",
        "x=16\n",
        "x-=7\n",
        "print(x)\n",
        "print('-'*20)\n",
        "\n",
        "#perkalian\n",
        "print('perkalian')\n",
        "x=5\n",
        "x=x*15\n",
        "print(x)\n",
        "x=5\n",
        "x*=10\n",
        "print(x)\n",
        "print('-'*20)\n",
        "\n",
        "#pembagian\n",
        "print('pembagian')\n",
        "x=12\n",
        "x=x/4\n",
        "print(x)\n",
        "x=18\n",
        "x/=6\n",
        "print(x)\n",
        "print('-'*20)\n",
        "\n",
        "#modulus\n",
        "print('modulus')\n",
        "x=2\n",
        "x=x%2\n",
        "print(x)\n",
        "print('-'*20)\n",
        "\n",
        "#pembagian flooring\n",
        "print('pembagian flooring')\n",
        "x=5\n",
        "x=x//3\n",
        "print(x)\n",
        "x=10\n",
        "x//=3\n",
        "print(x)\n",
        "print('-'*20)\n",
        "\n",
        "#perpangkatan\n",
        "print('perpangkatan')\n",
        "x=8\n",
        "x=x**3\n",
        "print(x)\n",
        "x=4\n",
        "x**=4\n",
        "print(x)\n",
        "print('-'*20)"
      ],
      "execution_count": 15,
      "outputs": [
        {
          "output_type": "stream",
          "name": "stdout",
          "text": [
            "penjumlahan\n",
            "15\n",
            "12\n",
            "--------------------\n",
            "pengurangan\n",
            "20\n",
            "9\n",
            "--------------------\n",
            "perkalian\n",
            "75\n",
            "50\n",
            "--------------------\n",
            "pembagian\n",
            "3.0\n",
            "3.0\n",
            "--------------------\n",
            "modulus\n",
            "0\n",
            "--------------------\n",
            "pembagian flooring\n",
            "1\n",
            "3\n",
            "--------------------\n",
            "perpangkatan\n",
            "512\n",
            "256\n",
            "--------------------\n"
          ]
        }
      ]
    },
    {
      "cell_type": "markdown",
      "metadata": {
        "id": "iGoMKuNLCpRV"
      },
      "source": [
        "# Operator Pembanding"
      ]
    },
    {
      "cell_type": "markdown",
      "metadata": {
        "id": "0X1ADJF1p9GC"
      },
      "source": [
        "Operator pembanding digunakan untuk membandingkan 2 nilai atau variable. Macam-macam pembanding :"
      ]
    },
    {
      "cell_type": "code",
      "metadata": {
        "id": "KmdRuelbnMC6"
      },
      "source": [
        "== -> samadengan\n",
        "!= -> tidak samadengan\n",
        "> -> lebih dari\n",
        "< -> kurang dari\n",
        ">= -> lebih dari samadengan\n",
        "<= -> kurang dari samadengan"
      ],
      "execution_count": null,
      "outputs": []
    },
    {
      "cell_type": "code",
      "metadata": {
        "colab": {
          "base_uri": "https://localhost:8080/"
        },
        "id": "AEBTXduJqe40",
        "outputId": "646398ea-7633-42f1-9517-6ed28903ec25"
      },
      "source": [
        "# contoh penggunaan operator pembanding\n",
        "\n",
        "print(2==2)\n",
        "print(2!=2)\n",
        "print(2>2)\n",
        "print(2<2)\n",
        "print(2>=2)\n",
        "print(2<=2)"
      ],
      "execution_count": 16,
      "outputs": [
        {
          "output_type": "stream",
          "name": "stdout",
          "text": [
            "True\n",
            "False\n",
            "False\n",
            "False\n",
            "True\n",
            "True\n"
          ]
        }
      ]
    },
    {
      "cell_type": "markdown",
      "metadata": {
        "id": "zPjNJqmgq4gn"
      },
      "source": [
        "Latihan Operator 3"
      ]
    },
    {
      "cell_type": "code",
      "metadata": {
        "id": "wPgNze8iq3PJ"
      },
      "source": [
        "# buatlah program penerapam operator pembanding\n",
        "# dengan nilai-nilai yang berbeda dari contoh di atas"
      ],
      "execution_count": null,
      "outputs": []
    },
    {
      "cell_type": "code",
      "metadata": {
        "colab": {
          "base_uri": "https://localhost:8080/"
        },
        "id": "C9Lm2HXtx08S",
        "outputId": "170cf5a2-e743-408e-cc9e-69c97f256982"
      },
      "source": [
        "# contoh penggunaan operator pembanding\n",
        "\n",
        "print(15==15)\n",
        "print(5!=120)\n",
        "print(4>2)\n",
        "print(21<15)\n",
        "print(2>=6)\n",
        "print(17<=17)"
      ],
      "execution_count": 17,
      "outputs": [
        {
          "output_type": "stream",
          "name": "stdout",
          "text": [
            "True\n",
            "True\n",
            "True\n",
            "False\n",
            "False\n",
            "True\n"
          ]
        }
      ]
    },
    {
      "cell_type": "markdown",
      "metadata": {
        "id": "L0YMKB_aCvUC"
      },
      "source": [
        "# Operator Logika"
      ]
    },
    {
      "cell_type": "markdown",
      "metadata": {
        "id": "xtoVzHN9rKn1"
      },
      "source": [
        "Operator logika digunakan unutuk mengkombinasikan statement-statement kondisional. Macam-macam operator logika :"
      ]
    },
    {
      "cell_type": "code",
      "metadata": {
        "id": "22smN1ihrZLZ"
      },
      "source": [
        "and -> kondisi menjadi besar apabila semua statementnya benar\n",
        "or  -> kondisi menjadi benar apabila salah satu statementnya ada yang benar\n",
        "not -> membalik hasil dari benar ke salah dan salah ke benar"
      ],
      "execution_count": null,
      "outputs": []
    },
    {
      "cell_type": "code",
      "metadata": {
        "colab": {
          "base_uri": "https://localhost:8080/"
        },
        "id": "_ySs3j_Orv9d",
        "outputId": "8f5612f7-eb74-4f74-ae65-5c4c8779d2df"
      },
      "source": [
        "# contoh penggunaan operator logika\n",
        "\n",
        "print(True and False)\n",
        "print(False or True)\n",
        "print(not False and True)"
      ],
      "execution_count": 18,
      "outputs": [
        {
          "output_type": "stream",
          "name": "stdout",
          "text": [
            "False\n",
            "True\n",
            "True\n"
          ]
        }
      ]
    },
    {
      "cell_type": "markdown",
      "metadata": {
        "id": "h90KD2aWsCyw"
      },
      "source": [
        "Latihan Operator 4"
      ]
    },
    {
      "cell_type": "code",
      "metadata": {
        "id": "GUgXomZ1sFne"
      },
      "source": [
        "# buatlah program penerapan operator logika\n",
        "# dengan nilai-nilai yang berbeda dari contoh di atas"
      ],
      "execution_count": null,
      "outputs": []
    },
    {
      "cell_type": "code",
      "metadata": {
        "colab": {
          "base_uri": "https://localhost:8080/"
        },
        "id": "zTIb32-0yk6l",
        "outputId": "0cccb0c0-67dd-423b-d50e-2ecfbce10cae"
      },
      "source": [
        "# contoh penggunaan operator logika\n",
        "\n",
        "print(True and True)\n",
        "print(False or False)\n",
        "print(not False and False)"
      ],
      "execution_count": 19,
      "outputs": [
        {
          "output_type": "stream",
          "name": "stdout",
          "text": [
            "True\n",
            "False\n",
            "False\n"
          ]
        }
      ]
    },
    {
      "cell_type": "markdown",
      "metadata": {
        "id": "vbFwPY_GC2RC"
      },
      "source": [
        "# Operator Membership"
      ]
    },
    {
      "cell_type": "markdown",
      "metadata": {
        "id": "t2Jz6X3BC7WH"
      },
      "source": [
        "Operator keanggotaan digunakan untuk menguji apakah urutan disajikan dalam suatu objek. Macam-macam operator keanggotaan :"
      ]
    },
    {
      "cell_type": "code",
      "metadata": {
        "id": "W3rUbTi7shGQ"
      },
      "source": [
        "in     -> return True ketika nilai tertentu dalam sebuah urutan ada\n",
        "not in -> return True ketika nilai tertentu dalam sebuah urutan tidak ada"
      ],
      "execution_count": null,
      "outputs": []
    },
    {
      "cell_type": "code",
      "metadata": {
        "colab": {
          "base_uri": "https://localhost:8080/"
        },
        "id": "5SbQA5jGsvtP",
        "outputId": "96360ac4-95ef-41ad-bfa5-8ad6e0132c5c"
      },
      "source": [
        "# contoh penggunaan operator keanggotaan\n",
        "a=(1,2,3,4,5,6)\n",
        "b=2\n",
        "\n",
        "print(b in a)\n",
        "\n",
        "print('-'*20)\n",
        "a=(1,2,3,4,5,6)\n",
        "b=7\n",
        "print(b not in a)"
      ],
      "execution_count": 22,
      "outputs": [
        {
          "output_type": "stream",
          "name": "stdout",
          "text": [
            "True\n",
            "--------------------\n",
            "True\n"
          ]
        }
      ]
    },
    {
      "cell_type": "markdown",
      "metadata": {
        "id": "ckF-ZOPqtXcP"
      },
      "source": [
        "Latihan Operator 5"
      ]
    },
    {
      "cell_type": "code",
      "metadata": {
        "id": "j2qmLM6BtWa1"
      },
      "source": [
        "# buatlah program penerapan operator keanggotaan/membership\n",
        "#dengan nilai-nilai yang berbeda dari contoh di atas"
      ],
      "execution_count": null,
      "outputs": []
    },
    {
      "cell_type": "code",
      "metadata": {
        "colab": {
          "base_uri": "https://localhost:8080/"
        },
        "id": "IPBG_xLIy3cq",
        "outputId": "7330647b-1aac-4f6a-8a91-cb0456e6bb52"
      },
      "source": [
        "# contoh penggunaan operator keanggotaan\n",
        "a=(11,12,13,14,15,16,17,18,19,20)\n",
        "b=13\n",
        "\n",
        "print(b in a)\n",
        "\n",
        "print('-'*20)\n",
        "a=(11,12,13,14,15,16)\n",
        "b=9,10\n",
        "print(b not in a)"
      ],
      "execution_count": 25,
      "outputs": [
        {
          "output_type": "stream",
          "name": "stdout",
          "text": [
            "True\n",
            "--------------------\n",
            "True\n"
          ]
        }
      ]
    }
  ]
}