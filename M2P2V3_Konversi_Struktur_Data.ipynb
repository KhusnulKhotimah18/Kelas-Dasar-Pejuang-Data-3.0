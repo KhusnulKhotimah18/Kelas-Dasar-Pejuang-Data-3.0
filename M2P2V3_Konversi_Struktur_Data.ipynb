{
  "nbformat": 4,
  "nbformat_minor": 0,
  "metadata": {
    "colab": {
      "name": "M2P2V3_Konversi Struktur Data.ipynb",
      "provenance": [],
      "collapsed_sections": [],
      "authorship_tag": "ABX9TyO3l9fI7ED5rX/iIycKGnIX",
      "include_colab_link": true
    },
    "kernelspec": {
      "name": "python3",
      "display_name": "Python 3"
    },
    "language_info": {
      "name": "python"
    }
  },
  "cells": [
    {
      "cell_type": "markdown",
      "metadata": {
        "id": "view-in-github",
        "colab_type": "text"
      },
      "source": [
        "<a href=\"https://colab.research.google.com/github/KhusnulKhotimah18/Kelas-Dasar-Pejuang-Data-3.0/blob/main/M2P2V3_Konversi_Struktur_Data.ipynb\" target=\"_parent\"><img src=\"https://colab.research.google.com/assets/colab-badge.svg\" alt=\"Open In Colab\"/></a>"
      ]
    },
    {
      "cell_type": "markdown",
      "metadata": {
        "id": "yf3cMclTJST0"
      },
      "source": [
        "# Konversi Struktur Data"
      ]
    },
    {
      "cell_type": "markdown",
      "metadata": {
        "id": "cOY5fm3nJXRx"
      },
      "source": [
        "Fungsi untuk mengubah/konversi struktur data :\n",
        "\n"
      ]
    },
    {
      "cell_type": "markdown",
      "metadata": {
        "id": "mabB56ADJ1Yq"
      },
      "source": [
        "a. `list()` : untuk mengubah menjadi data list"
      ]
    },
    {
      "cell_type": "markdown",
      "metadata": {
        "id": "M-cOLB9nLDv0"
      },
      "source": [
        "b. `tuple()` : untuk mengubah menjadi tuple"
      ]
    },
    {
      "cell_type": "markdown",
      "metadata": {
        "id": "RbwUIDGALIdS"
      },
      "source": [
        "c. `set()` : untuk mengubah menjadi set"
      ]
    },
    {
      "cell_type": "markdown",
      "metadata": {
        "id": "zAL5g4LmLMeS"
      },
      "source": [
        "d. `dict()` : untuk mengubah menjadi dictionary"
      ]
    },
    {
      "cell_type": "markdown",
      "metadata": {
        "id": "wPbvkv-tLPql"
      },
      "source": [
        "## Mengkonversi tipe data list :"
      ]
    },
    {
      "cell_type": "code",
      "metadata": {
        "id": "7H5RkJSSLVDl"
      },
      "source": [
        "#membuat 2 list\n",
        "L1 = [1, 2, 3, 4]\n",
        "L2 = [5, 6, 7, 8]"
      ],
      "execution_count": 1,
      "outputs": []
    },
    {
      "cell_type": "code",
      "metadata": {
        "colab": {
          "base_uri": "https://localhost:8080/"
        },
        "id": "AJPaolxALzdS",
        "outputId": "e4f65c75-88bb-4f10-e474-f0d56ed1e04c"
      },
      "source": [
        "#mengkonversi struktur data list\n",
        "k_tuple = tuple(L1)\n",
        "k_set = set(L2)\n",
        "k_dict = dict(zip(L1, L2))\n",
        "\n",
        "#melihat data yang telah dikonversi\n",
        "print(k_tuple)\n",
        "print(k_set)\n",
        "print(k_dict)"
      ],
      "execution_count": 2,
      "outputs": [
        {
          "output_type": "stream",
          "name": "stdout",
          "text": [
            "(1, 2, 3, 4)\n",
            "{8, 5, 6, 7}\n",
            "{1: 5, 2: 6, 3: 7, 4: 8}\n"
          ]
        }
      ]
    },
    {
      "cell_type": "markdown",
      "metadata": {
        "id": "bSUVq8UPMiKR"
      },
      "source": [
        "## Mengkonversi tipe data tuple :"
      ]
    },
    {
      "cell_type": "code",
      "metadata": {
        "id": "Igm0a07PMnyp"
      },
      "source": [
        "#membuat dua tuple\n",
        "T1 = (1, 2, 3, 4)\n",
        "T2 = (5, 6, 7, 8)"
      ],
      "execution_count": 3,
      "outputs": []
    },
    {
      "cell_type": "code",
      "metadata": {
        "colab": {
          "base_uri": "https://localhost:8080/"
        },
        "id": "V1x1oHCBNFbz",
        "outputId": "5e17da1e-bf73-46d6-99ce-cd8b67052217"
      },
      "source": [
        "#mengkonversi struktur data tuple\n",
        "k_list = list(T1)\n",
        "k_set = set(T2)\n",
        "k_dict = dict(zip(T1, T2))\n",
        "\n",
        "#melihat data yang telah dikonversi\n",
        "print(k_tuple)\n",
        "print(k_set)\n",
        "print(k_dict)"
      ],
      "execution_count": 4,
      "outputs": [
        {
          "output_type": "stream",
          "name": "stdout",
          "text": [
            "(1, 2, 3, 4)\n",
            "{8, 5, 6, 7}\n",
            "{1: 5, 2: 6, 3: 7, 4: 8}\n"
          ]
        }
      ]
    },
    {
      "cell_type": "markdown",
      "metadata": {
        "id": "j06uXyu5NjOj"
      },
      "source": [
        "## Mengkonversi tipe data set :"
      ]
    },
    {
      "cell_type": "code",
      "metadata": {
        "id": "NwtEL9YBNnNE"
      },
      "source": [
        "S1 = (1, 2, 3, 4)\n",
        "S2 = (5, 6, 7, 8)"
      ],
      "execution_count": 5,
      "outputs": []
    },
    {
      "cell_type": "code",
      "metadata": {
        "colab": {
          "base_uri": "https://localhost:8080/"
        },
        "id": "F8fpPQC5NtZd",
        "outputId": "4afa6f9d-0591-4264-c33e-ba4be5475826"
      },
      "source": [
        "#mengkonversi struktur data \n",
        "k_list = list(S1)\n",
        "k_tuple = tuple(S2)\n",
        "k_dict = dict(zip(S1, S2))\n",
        "\n",
        "#melihat data yang telah dikonversi\n",
        "print(k_list)\n",
        "print(k_tuple)\n",
        "print(k_dict)"
      ],
      "execution_count": 6,
      "outputs": [
        {
          "output_type": "stream",
          "name": "stdout",
          "text": [
            "[1, 2, 3, 4]\n",
            "(5, 6, 7, 8)\n",
            "{1: 5, 2: 6, 3: 7, 4: 8}\n"
          ]
        }
      ]
    },
    {
      "cell_type": "markdown",
      "metadata": {
        "id": "kOrFGpkwPNYX"
      },
      "source": [
        "## Mengkonversi tipe data dictionary :"
      ]
    },
    {
      "cell_type": "code",
      "metadata": {
        "id": "D4XJtem_PRmA"
      },
      "source": [
        "#membuat dictionary\n",
        "D = {\"nama\" : \"Andi\", \"alamat\" : \"Yogyakarta\", \"umur\" : 20}"
      ],
      "execution_count": 7,
      "outputs": []
    },
    {
      "cell_type": "code",
      "metadata": {
        "colab": {
          "base_uri": "https://localhost:8080/"
        },
        "id": "lhavPiH9PpSX",
        "outputId": "dc439fde-9f46-4e80-d7c5-e969e27f3f25"
      },
      "source": [
        "#mengkonversi struktur data  dictionary dari key dan valuenya\n",
        "k_list = list(D.keys())\n",
        "k_tuple = tuple(D.values())\n",
        "k_set = set(D.keys())\n",
        "\n",
        "#melihat data yang telah dikonversi\n",
        "print(k_list)\n",
        "print(k_tuple)\n",
        "print(k_set)"
      ],
      "execution_count": 8,
      "outputs": [
        {
          "output_type": "stream",
          "name": "stdout",
          "text": [
            "['nama', 'alamat', 'umur']\n",
            "('Andi', 'Yogyakarta', 20)\n",
            "{'umur', 'nama', 'alamat'}\n"
          ]
        }
      ]
    },
    {
      "cell_type": "markdown",
      "metadata": {
        "id": "P2YmjVXFQpSE"
      },
      "source": [
        "## Latihan"
      ]
    },
    {
      "cell_type": "code",
      "metadata": {
        "id": "jTR5HUzhQtRU"
      },
      "source": [
        "#lakukan konversi struktur data yang kalian buat pada notebook sebelumnya\n",
        "#buatlah menjadi list, tuple, set, dan dictionary (masing-masing satu)"
      ],
      "execution_count": null,
      "outputs": []
    },
    {
      "cell_type": "markdown",
      "metadata": {
        "id": "0lNEb8dpU97g"
      },
      "source": [
        "## Mengkonversi tipe data list"
      ]
    },
    {
      "cell_type": "code",
      "metadata": {
        "id": "t8Se5BGy3Lkm"
      },
      "source": [
        "L3 = [2.5, 12, 250, 17.8]\n",
        "L4 = [\"bilangan desimal\", 2.5, 17.8, \"bilangan bulat\"]"
      ],
      "execution_count": 9,
      "outputs": []
    },
    {
      "cell_type": "code",
      "metadata": {
        "colab": {
          "base_uri": "https://localhost:8080/"
        },
        "id": "DYNHQqTl3clt",
        "outputId": "d92c0a26-1185-45de-c39a-35f4f5ec93c7"
      },
      "source": [
        "#mengkonversi struktur data list\n",
        "k_tuple = tuple(L3)\n",
        "k_set = set(L4)\n",
        "k_dict = dict(zip(L3, L4))\n",
        "\n",
        "#melihat data yang telah dikonversi\n",
        "print(k_tuple)\n",
        "print(k_set)\n",
        "print(k_dict)"
      ],
      "execution_count": 10,
      "outputs": [
        {
          "output_type": "stream",
          "name": "stdout",
          "text": [
            "(2.5, 12, 250, 17.8)\n",
            "{17.8, 2.5, 'bilangan desimal', 'bilangan bulat'}\n",
            "{2.5: 'bilangan desimal', 12: 2.5, 250: 17.8, 17.8: 'bilangan bulat'}\n"
          ]
        }
      ]
    },
    {
      "cell_type": "markdown",
      "metadata": {
        "id": "uDlft87x005F"
      },
      "source": [
        "## Mengkonversi tipe data tuple"
      ]
    },
    {
      "cell_type": "code",
      "metadata": {
        "id": "oi8N02lw2PFX"
      },
      "source": [
        "T2 = (\"desimal\", 76.0, 3+10j)\n",
        "T3 = (\"ganjil\", 21, True)"
      ],
      "execution_count": 11,
      "outputs": []
    },
    {
      "cell_type": "code",
      "metadata": {
        "colab": {
          "base_uri": "https://localhost:8080/"
        },
        "id": "YsMVg1pN5wAK",
        "outputId": "30fe6193-b95c-4083-88ff-24a28d469c38"
      },
      "source": [
        "#mengkonversi struktur data tuple\n",
        "k_list = list(T2)\n",
        "k_set = set(T3)\n",
        "k_dict = dict(zip(T2, T3))\n",
        "\n",
        "#melihat data yang telah dikonversi\n",
        "print(k_list)\n",
        "print(k_set)\n",
        "print(k_dict)"
      ],
      "execution_count": 12,
      "outputs": [
        {
          "output_type": "stream",
          "name": "stdout",
          "text": [
            "['desimal', 76.0, (3+10j)]\n",
            "{True, 'ganjil', 21}\n",
            "{'desimal': 'ganjil', 76.0: 21, (3+10j): True}\n"
          ]
        }
      ]
    },
    {
      "cell_type": "markdown",
      "metadata": {
        "id": "KCtLd_6Z053n"
      },
      "source": [
        "## Mengkonversi tipe data set"
      ]
    },
    {
      "cell_type": "code",
      "metadata": {
        "id": "IxsIOhLA105a"
      },
      "source": [
        "S2 = {-2, \"negatif\", 2, \"positif\", 7.8, \"desimal\"}\n",
        "S3 = {100, \"genap\", 81, \"ganjil\", 2+5j, \"kompleks\"}"
      ],
      "execution_count": 13,
      "outputs": []
    },
    {
      "cell_type": "code",
      "metadata": {
        "colab": {
          "base_uri": "https://localhost:8080/"
        },
        "id": "gynfUIPY6KlB",
        "outputId": "e4244ed8-11f7-4fc0-cc8f-0ca74676a297"
      },
      "source": [
        "#mengkonversi struktur data set\n",
        "k_list = list(S2)\n",
        "k_tuple = tuple(S3)\n",
        "k_dict = dict(zip(S2, S3))\n",
        "\n",
        "#melihat data yang telah dikonversi\n",
        "print(k_list)\n",
        "print(k_tuple)\n",
        "print(k_dict)"
      ],
      "execution_count": 14,
      "outputs": [
        {
          "output_type": "stream",
          "name": "stdout",
          "text": [
            "[2, 'positif', 7.8, 'negatif', 'desimal', -2]\n",
            "(100, 'kompleks', 'genap', (2+5j), 81, 'ganjil')\n",
            "{2: 100, 'positif': 'kompleks', 7.8: 'genap', 'negatif': (2+5j), 'desimal': 81, -2: 'ganjil'}\n"
          ]
        }
      ]
    },
    {
      "cell_type": "markdown",
      "metadata": {
        "id": "y4Tg9DrX09M3"
      },
      "source": [
        "## Mengkonversi tipe data dictionary"
      ]
    },
    {
      "cell_type": "code",
      "metadata": {
        "id": "iZP1ni6E1Ctf"
      },
      "source": [
        "D2 = {10: 'genap', 3+3j : 8, 5.5 : True}"
      ],
      "execution_count": 15,
      "outputs": []
    },
    {
      "cell_type": "code",
      "metadata": {
        "colab": {
          "base_uri": "https://localhost:8080/"
        },
        "id": "yANatqQg6lob",
        "outputId": "c2d0e385-5212-4754-db57-057e7eb3dfd6"
      },
      "source": [
        "#mengkonversi struktur data  dictionary dari key dan valuenya\n",
        "k_list = list(D2.keys())\n",
        "k_tuple = tuple(D2.values())\n",
        "k_set = set(D2.keys())\n",
        "\n",
        "#melihat data yang telah dikonversi\n",
        "print(k_list)\n",
        "print(k_tuple)\n",
        "print(k_set)"
      ],
      "execution_count": 16,
      "outputs": [
        {
          "output_type": "stream",
          "name": "stdout",
          "text": [
            "[10, (3+3j), 5.5]\n",
            "('genap', 8, True)\n",
            "{10, (3+3j), 5.5}\n"
          ]
        }
      ]
    }
  ]
}