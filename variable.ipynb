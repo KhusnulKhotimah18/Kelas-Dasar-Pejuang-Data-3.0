{
  "nbformat": 4,
  "nbformat_minor": 0,
  "metadata": {
    "colab": {
      "name": "variable.ipynb",
      "provenance": []
    },
    "kernelspec": {
      "name": "python3",
      "display_name": "Python 3"
    },
    "language_info": {
      "name": "python"
    }
  },
  "cells": [
    {
      "cell_type": "markdown",
      "metadata": {
        "id": "OyPX_0yX1D1T"
      },
      "source": [
        "# Variable & Tipe Data"
      ]
    },
    {
      "cell_type": "markdown",
      "metadata": {
        "id": "516B8w-X1J8r"
      },
      "source": [
        "## Variable"
      ]
    },
    {
      "cell_type": "markdown",
      "metadata": {
        "id": "hFbJU9ml1X1P"
      },
      "source": [
        "Variables : Lokasi penyimpanan yang dapat digunakan untuk menampung sebuah data atau informasi. Syarat-syarat penamaan variable :\n",
        "1. Karakter-karakter yang digunakan untuk penamaan variable adalah alphabet, angka, dan underscore.\n",
        "2. Karakter pertama variable harus berupa huruf atau garis bawah/underscore, dan tidak bisa berupa angka.\n",
        "3. Nama sebuah variable tidak bisa menggunakan keyword atau reserved words dari bahsa phyton seperti for, if, dan lainnya.\n",
        "4. Karakter pada nama variable bersifat sensitif (case-sensitif)"
      ]
    },
    {
      "cell_type": "code",
      "metadata": {
        "id": "kITwZQzr2ZSS"
      },
      "source": [
        "# membuat variable\n",
        "kalimat ='ini adalah variable'\n",
        "bilangan1 = 4\n",
        "bilangan2 = 2.5\n",
        "bilangan3 = True\n",
        "bilangan4 = 1j + 4"
      ],
      "execution_count": 17,
      "outputs": []
    },
    {
      "cell_type": "code",
      "metadata": {
        "colab": {
          "base_uri": "https://localhost:8080/"
        },
        "id": "i_xHj9eB2pJo",
        "outputId": "08b0cc9a-e5a1-4a3b-e063-bbebe8efb450"
      },
      "source": [
        "# menampilkan variable\n",
        "print(kalimat)\n",
        "print(bilangan1)\n",
        "print(bilangan2)\n",
        "print(bilangan4)"
      ],
      "execution_count": 20,
      "outputs": [
        {
          "output_type": "stream",
          "name": "stdout",
          "text": [
            "ini adalah variable\n",
            "4\n",
            "2.5\n",
            "(4+1j)\n"
          ]
        }
      ]
    },
    {
      "cell_type": "markdown",
      "metadata": {
        "id": "cyFpZrH_25rp"
      },
      "source": [
        "Latihan 1"
      ]
    },
    {
      "cell_type": "code",
      "metadata": {
        "id": "L47gkLrI24NG"
      },
      "source": [
        "# buatlah 5 variable kalian sendiri dengan 5 macam tipe data\n",
        "# lalu tampilkan variable menggunakan fungsi print"
      ],
      "execution_count": null,
      "outputs": []
    },
    {
      "cell_type": "code",
      "metadata": {
        "id": "zDHfJ6kg4brt"
      },
      "source": [
        "# membuat variable\n",
        "\n",
        "bilangan5 = 10\n",
        "bilangan6 = 2.5\n",
        "bilangan7 = True\n",
        "kalimat ='anggota bilangan real'\n",
        "bilangan8 = 10j + 8"
      ],
      "execution_count": 22,
      "outputs": []
    },
    {
      "cell_type": "code",
      "metadata": {
        "colab": {
          "base_uri": "https://localhost:8080/"
        },
        "id": "9C5ZcwKF7HTP",
        "outputId": "d30432bc-45de-4120-a2c2-3791799ae892"
      },
      "source": [
        "# menampilkan variable\n",
        "\n",
        "print(bilangan5)\n",
        "print(bilangan6)\n",
        "print(bilangan7)\n",
        "print(kalimat)\n",
        "print(bilangan8)"
      ],
      "execution_count": 23,
      "outputs": [
        {
          "output_type": "stream",
          "name": "stdout",
          "text": [
            "10\n",
            "2.5\n",
            "True\n",
            "anggota bilangan real\n",
            "(8+10j)\n"
          ]
        }
      ]
    },
    {
      "cell_type": "markdown",
      "metadata": {
        "id": "MIk8xnrk3IlC"
      },
      "source": [
        "## Tipe Data"
      ]
    },
    {
      "cell_type": "markdown",
      "metadata": {
        "id": "B9XWYGjM3LTL"
      },
      "source": [
        "5 Tipe data, yaitu :\n",
        "1. Integer atau bilangan bulat\n",
        "2. Float atau bilangan desimal\n",
        "3. String atau kalimat\n",
        "4. Boolean yang terdiri dari True and False\n",
        "5. Complex yang merupakan bilangan kompleks"
      ]
    },
    {
      "cell_type": "code",
      "metadata": {
        "id": "Luc05pE13ks4"
      },
      "source": [
        "# menampilkan tipe data\n",
        "print(type(kalimat))\n",
        "print(type(bilangan1))\n",
        "print(type(bilangan2))\n",
        "print(type(bilangan3))\n",
        "print(type(bilangan4))"
      ],
      "execution_count": null,
      "outputs": []
    },
    {
      "cell_type": "markdown",
      "metadata": {
        "id": "ERAKnMDB4Bjv"
      },
      "source": [
        "Latihan 2"
      ]
    },
    {
      "cell_type": "code",
      "metadata": {
        "id": "WPDsgFqs4DP8"
      },
      "source": [
        "# cek tipe data variable yang telah kalian buat pada latihan 1"
      ],
      "execution_count": null,
      "outputs": []
    },
    {
      "cell_type": "code",
      "metadata": {
        "colab": {
          "base_uri": "https://localhost:8080/"
        },
        "id": "C1cFO8RX6ctn",
        "outputId": "90607781-ae1d-40a7-85ff-f9e570e2a3d9"
      },
      "source": [
        "# menampilkan tipe data\n",
        "\n",
        "print(type(bilangan5))\n",
        "print(type(bilangan6))\n",
        "print(type(bilangan7))\n",
        "print(type(kalimat))\n",
        "print(type(bilangan8))"
      ],
      "execution_count": 24,
      "outputs": [
        {
          "output_type": "stream",
          "name": "stdout",
          "text": [
            "<class 'int'>\n",
            "<class 'float'>\n",
            "<class 'bool'>\n",
            "<class 'str'>\n",
            "<class 'complex'>\n"
          ]
        }
      ]
    }
  ]
}