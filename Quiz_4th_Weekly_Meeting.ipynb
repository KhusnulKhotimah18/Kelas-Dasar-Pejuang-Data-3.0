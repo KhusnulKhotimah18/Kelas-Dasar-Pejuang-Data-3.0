{
  "nbformat": 4,
  "nbformat_minor": 0,
  "metadata": {
    "colab": {
      "name": "Quiz 4th Weekly Meeting.ipynb",
      "provenance": []
    },
    "kernelspec": {
      "name": "python3",
      "display_name": "Python 3"
    },
    "language_info": {
      "name": "python"
    }
  },
  "cells": [
    {
      "cell_type": "markdown",
      "metadata": {
        "id": "Vd_NuDsDilln"
      },
      "source": [
        "# Quiz 4th Weekly Meeting"
      ]
    },
    {
      "cell_type": "markdown",
      "metadata": {
        "id": "WpqLmgfRhpVY"
      },
      "source": [
        "Instruksi:\n",
        "1. Buatlah fungsi untuk faktorial dengan inputnya berupa list yang berisikan angka.\n",
        "2. buatlah list yang isinya bilangan genap (dari 1 - 15) menggunakan looping while, lalu tentukan nilai fatorial dari tiap nilai dalam list lalu jumlahkan semua nilai yang telah  difatorial."
      ]
    },
    {
      "cell_type": "markdown",
      "metadata": {
        "id": "n07YFLubudlH"
      },
      "source": [
        "## Jawaban"
      ]
    },
    {
      "cell_type": "code",
      "metadata": {
        "colab": {
          "base_uri": "https://localhost:8080/"
        },
        "id": "mqejgtciugya",
        "outputId": "19cfc05a-eea8-49a5-cf79-485cd332376c"
      },
      "source": [
        "def list_ganjil(a, b):\n",
        "  L = []\n",
        "  i = 1\n",
        "  while i <= (b-a):\n",
        "    if i%2 == 0:\n",
        "      L.append(i)\n",
        "    i = i + 1\n",
        "  return L\n",
        "\n",
        "L = list_ganjil(1, 15)\n",
        "L"
      ],
      "execution_count": null,
      "outputs": [
        {
          "output_type": "execute_result",
          "data": {
            "text/plain": [
              "[2, 4, 6, 8, 10, 12, 14]"
            ]
          },
          "metadata": {},
          "execution_count": 35
        }
      ]
    },
    {
      "cell_type": "code",
      "metadata": {
        "id": "yR_15x2J2tfO",
        "colab": {
          "base_uri": "https://localhost:8080/"
        },
        "outputId": "ae1c725a-98f8-45da-f162-fc678e0e3c23"
      },
      "source": [
        "def factor(L):\n",
        "  L2 = []\n",
        "  i = 0\n",
        "  while i <= (len(L)-1):\n",
        "    c = 1\n",
        "    j = 1\n",
        "    while j < L[i]:\n",
        "      c = c*(j+1)\n",
        "      j = j + 1\n",
        "    L2.append(c)\n",
        "    i = i+1\n",
        "  k = 0\n",
        "  hasil = 0\n",
        "  while k <= (len(L2)-1):\n",
        "    hasil = hasil + L2[k]\n",
        "    k = k + 1\n",
        "  return print(\"L2 = \", L2, \"hasil penjumlahan =\", hasil)\n",
        "\n",
        "factor(L)"
      ],
      "execution_count": null,
      "outputs": [
        {
          "output_type": "stream",
          "name": "stdout",
          "text": [
            "L2 =  [2, 24, 720, 40320, 3628800, 479001600, 87178291200] hasil penjumlahan = 87660962666\n"
          ]
        }
      ]
    }
  ]
}