{
  "nbformat": 4,
  "nbformat_minor": 0,
  "metadata": {
    "colab": {
      "name": "Untitled0.ipynb",
      "provenance": [],
      "collapsed_sections": []
    },
    "kernelspec": {
      "name": "python3",
      "display_name": "Python 3"
    },
    "language_info": {
      "name": "python"
    }
  },
  "cells": [
    {
      "cell_type": "markdown",
      "metadata": {
        "id": "8V4b525qlAse"
      },
      "source": [
        "# List"
      ]
    },
    {
      "cell_type": "markdown",
      "metadata": {
        "id": "wQ9MLfRQlFfC"
      },
      "source": [
        "List adalah jenis kumpulan data terurut (ordered sequence), dan merupakan salah satu variable yang sering digunakan pada Phyton. Serupa, namun tak sama dengan array pada bahasa pemrograman lainnya. Bedanya, elemen List pada Phyton tidak harus memiliki tipe data yang sama. Mendeklarasikan List cukup mudah dengan kurung siku dan elemen yang dipisahkan dengan koma."
      ]
    },
    {
      "cell_type": "markdown",
      "metadata": {
        "id": "LVZzj19smUpG"
      },
      "source": [
        "Setiap data di dalamnya dapat diakses dengan indeks yang  dimulai dari 0."
      ]
    },
    {
      "cell_type": "code",
      "metadata": {
        "colab": {
          "base_uri": "https://localhost:8080/"
        },
        "id": "3Howz0Cnmsin",
        "outputId": "c19fe657-0f0d-4505-d723-f1fce6707e74"
      },
      "source": [
        "#Contoh List\n",
        "L1 = [1,4,2,13]\n",
        "\n",
        "print(type(L1))"
      ],
      "execution_count": null,
      "outputs": [
        {
          "output_type": "stream",
          "name": "stdout",
          "text": [
            "<class 'list'>\n"
          ]
        }
      ]
    },
    {
      "cell_type": "code",
      "metadata": {
        "colab": {
          "base_uri": "https://localhost:8080/"
        },
        "id": "8LKx4cpeniu0",
        "outputId": "1f9f4ce4-e6ff-4146-c629-db27b8136e6a"
      },
      "source": [
        "L2 = [\"a\",\"phyton\",3]\n",
        "L2"
      ],
      "execution_count": null,
      "outputs": [
        {
          "output_type": "execute_result",
          "data": {
            "text/plain": [
              "['a', 'phyton', 3]"
            ]
          },
          "metadata": {},
          "execution_count": 5
        }
      ]
    },
    {
      "cell_type": "code",
      "metadata": {
        "colab": {
          "base_uri": "https://localhost:8080/"
        },
        "id": "FU5piJpOn19E",
        "outputId": "54ca0c58-68e7-42fc-cbdb-2679693f14eb"
      },
      "source": [
        "print(L1)\n",
        "print(L2)"
      ],
      "execution_count": null,
      "outputs": [
        {
          "output_type": "stream",
          "name": "stdout",
          "text": [
            "[1, 4, 2, 13]\n",
            "['a', 'phyton', 3]\n"
          ]
        }
      ]
    },
    {
      "cell_type": "markdown",
      "metadata": {
        "id": "XCjL69r1oKbA"
      },
      "source": [
        "**Latihan** 1"
      ]
    },
    {
      "cell_type": "code",
      "metadata": {
        "id": "2s4OpwUgoROm"
      },
      "source": [
        "#buatlah list kalian sendiri"
      ],
      "execution_count": null,
      "outputs": []
    },
    {
      "cell_type": "code",
      "metadata": {
        "colab": {
          "base_uri": "https://localhost:8080/"
        },
        "id": "-tanm8RJCJmM",
        "outputId": "125bb4b3-df4c-48b7-f34c-59f2039f6f13"
      },
      "source": [
        "L3 = [2.5, 12, 250, 17.8]\n",
        "\n",
        "print(type(L3))"
      ],
      "execution_count": 37,
      "outputs": [
        {
          "output_type": "stream",
          "name": "stdout",
          "text": [
            "<class 'list'>\n"
          ]
        }
      ]
    },
    {
      "cell_type": "code",
      "metadata": {
        "colab": {
          "base_uri": "https://localhost:8080/"
        },
        "id": "KjKrtrVmDgQ6",
        "outputId": "fbb4219a-2cef-4e35-e4f2-5eb047fb30ee"
      },
      "source": [
        "L4 = [\"bilangan desimal\", 2.5, 17.8, \"bilangan bulat\", 12, 250]\n",
        "L4"
      ],
      "execution_count": 38,
      "outputs": [
        {
          "output_type": "execute_result",
          "data": {
            "text/plain": [
              "['bilangan desimal', 2.5, 17.8, 'bilangan bulat', 12, 250]"
            ]
          },
          "metadata": {},
          "execution_count": 38
        }
      ]
    },
    {
      "cell_type": "code",
      "metadata": {
        "colab": {
          "base_uri": "https://localhost:8080/"
        },
        "id": "e0pQt-LkFOGg",
        "outputId": "041fd61a-7b30-4de8-f8a2-a2baa3dd3fc3"
      },
      "source": [
        "print(L3)\n",
        "print(L4)"
      ],
      "execution_count": 39,
      "outputs": [
        {
          "output_type": "stream",
          "name": "stdout",
          "text": [
            "[2.5, 12, 250, 17.8]\n",
            "['bilangan desimal', 2.5, 17.8, 'bilangan bulat', 12, 250]\n"
          ]
        }
      ]
    },
    {
      "cell_type": "markdown",
      "metadata": {
        "id": "aS8fwZ6zoeWM"
      },
      "source": [
        "Indeks di Phyton (List,Tuple) mulai dari 0"
      ]
    },
    {
      "cell_type": "code",
      "metadata": {
        "colab": {
          "base_uri": "https://localhost:8080/"
        },
        "id": "DKI6h3Q2orT2",
        "outputId": "3525ef12-94a4-4094-a29b-d137f4c5f272"
      },
      "source": [
        "#Sifat-sifat list\n",
        "\n",
        "#Terurut/ordered\n",
        "print(\"Memanggil List L1 dengan indeks urutan :\", L1[0:3])\n",
        "\n",
        "#Bisa diganti/mutable\n",
        "L1[1] = 2\n",
        "print(\"List L1 setelah diganti elemennya :\", L1)\n",
        "\n",
        "L1 = [1, \"dua\", True, 2+3j]\n",
        "\n",
        "#Dapat diindeks/slicing\n",
        "print(\"slicing List L1 :\", L1[3])\n",
        "\n",
        "#Dapat diijinkan duplikasi\n",
        "L1 = [1, \"dua\", True, 2+3j, 2+3j]\n",
        "print(\"Duplikasi pada list L1\", L1)"
      ],
      "execution_count": null,
      "outputs": [
        {
          "output_type": "stream",
          "name": "stdout",
          "text": [
            "Memanggil List L1 dengan indeks urutan : [1, 4, 2]\n",
            "List L1 setelah diganti elemennya : [1, 2, 2, 13]\n",
            "slicing List L1 : (2+3j)\n",
            "Duplikasi pada list L1 [1, 'dua', True, (2+3j), (2+3j)]\n"
          ]
        }
      ]
    },
    {
      "cell_type": "markdown",
      "metadata": {
        "id": "bXIVs4tHqhFq"
      },
      "source": [
        "**Latihan 2**"
      ]
    },
    {
      "cell_type": "code",
      "metadata": {
        "id": "LyPzSwiHqpQy"
      },
      "source": [
        "#Ganti elemen yang ada pada list yang kalian buat"
      ],
      "execution_count": null,
      "outputs": []
    },
    {
      "cell_type": "code",
      "metadata": {
        "colab": {
          "base_uri": "https://localhost:8080/"
        },
        "id": "7vVZH8vHF4Vz",
        "outputId": "7028fedb-d1e1-4770-9a78-e996f1b5f4f1"
      },
      "source": [
        "#Sifat-sifat list\n",
        "\n",
        "#Terurut/ordered\n",
        "print(\"Memanggil List L3 dengan indeks urutan :\", L3[0:2])\n",
        "\n",
        "#Bisa diganti/mutable\n",
        "L3[3] = 8.9\n",
        "print(\"List L3 setelah diganti elemennya :\", L3)\n",
        "\n",
        "L3 = [7.8, \"desimal\", 80, \"genap\"]\n",
        "\n",
        "#Dapat diindeks/slicing\n",
        "print(\"slicing List L3 :\", L3[2])\n",
        "\n",
        "#Dapat diijinkan duplikasi\n",
        "L4 = [\"bilangan desimal\", 2.5, 17.8, \"bilangan bulat\", 12, 250, 12, 250]\n",
        "print(\"Duplikasi pada list L4\", L4)\n"
      ],
      "execution_count": 47,
      "outputs": [
        {
          "output_type": "stream",
          "name": "stdout",
          "text": [
            "Memanggil List L3 dengan indeks urutan : [7.8, 'desimal']\n",
            "List L3 setelah diganti elemennya : [7.8, 'desimal', 80, 8.9]\n",
            "slicing List L3 : 80\n",
            "Duplikasi pada list L4 ['bilangan desimal', 2.5, 17.8, 'bilangan bulat', 12, 250, 12, 250]\n"
          ]
        }
      ]
    }
  ]
}